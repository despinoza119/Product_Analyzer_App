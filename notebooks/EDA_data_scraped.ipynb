{
 "cells": [
  {
   "cell_type": "code",
   "execution_count": 103,
   "id": "initial_id",
   "metadata": {
    "collapsed": true,
    "ExecuteTime": {
     "end_time": "2024-03-07T14:03:50.268851500Z",
     "start_time": "2024-03-07T14:03:50.253851Z"
    }
   },
   "outputs": [],
   "source": [
    "import pandas as pd\n",
    "import seaborn as sns\n",
    "from matplotlib import pyplot as plt"
   ]
  },
  {
   "cell_type": "code",
   "execution_count": 104,
   "outputs": [],
   "source": [
    "# Function to clean the price column and convert it to numeric. \n",
    "def cleanPriceCol(df, col):\n",
    "    pattern = r'(\\d+(?:,\\d{2})?)'\n",
    "    df[col] = df[col].astype(str)\n",
    "    df[col] = df[col].str.extract(pattern)\n",
    "    df[col] = df[col].str.replace(\",\", \"\")  # Remove commas\n",
    "    df[col] = df[col].str.replace(\".\", \"\")  # Remove dots\n",
    "    df[col] = df[col].str.replace(\",\", \".\")  # Replace commas with dots\n",
    "    df[col] = df[col].astype(float)\n",
    "    df.sort_values(by=col, ascending=False, inplace=True)\n",
    "    return df"
   ],
   "metadata": {
    "collapsed": false,
    "ExecuteTime": {
     "end_time": "2024-03-07T14:03:50.473141300Z",
     "start_time": "2024-03-07T14:03:50.462151800Z"
    }
   },
   "id": "93d6dcbc2a367147"
  },
  {
   "cell_type": "code",
   "execution_count": 63,
   "outputs": [
    {
     "name": "stdout",
     "output_type": "stream",
     "text": [
      "                                            Producto        ASIN  \\\n",
      "0               7th Sector - LIMITED (PlayStation 4)  B0CK4RPY57   \n",
      "1  Sony Playstation 4 (PS4) - Consola 500 Gb + 2 ...  B07KBLNZB1   \n",
      "2  Sony PS4 Slim 1TB Negro 1000 GB Wifi - Videoco...  B07KMV94JF   \n",
      "3  Playstation 4 Consola versión Slim (PS4)| Capa...  B07HGBNWTY   \n",
      "4       PlayStation 4 Slim (PS4) - Consola de 500 GB  B01LQF9RDI   \n",
      "5  Sony PlayStation 4 Slim (PS4) - Consola de 500 GB  B076DHYRGP   \n",
      "6  EA SPORTS FC 24 Standard Edition PS4 | Videoju...  B0CB6VXYDQ   \n",
      "\n",
      "            Precio  Precio Original        Calificacion  \\\n",
      "0  Sin Información  Sin Información  5,0 de 5 estrellas   \n",
      "1  Sin Información  Sin Información  4,6 de 5 estrellas   \n",
      "2  Sin Información  Sin Información  4,2 de 5 estrellas   \n",
      "3  Sin Información  Sin Información  4,4 de 5 estrellas   \n",
      "4  Sin Información  Sin Información  4,5 de 5 estrellas   \n",
      "5  Sin Información  Sin Información  4,3 de 5 estrellas   \n",
      "6          79,99 €          79,99 €  4,8 de 5 estrellas   \n",
      "\n",
      "   Numero de Calificaciones  \\\n",
      "0                     5.000   \n",
      "1                     1.034   \n",
      "2                     1.742   \n",
      "3                     1.052   \n",
      "4                     2.712   \n",
      "5                   167.000   \n",
      "6                   870.000   \n",
      "\n",
      "                                     Enlace Producto  \\\n",
      "0  https://www.amazon.com/sspa/click?ie=UTF8&spc=...   \n",
      "1  https://www.amazon.com/Playstation-PS4-Consola...   \n",
      "2  https://www.amazon.com/Sony-Slim-Negro-1000-Wi...   \n",
      "3  https://www.amazon.com/Playstation-Ps4-Consola...   \n",
      "4  https://www.amazon.com/PlayStation-Slim-PS4-Co...   \n",
      "5  https://www.amazon.com/PlayStation-Slim-PS4-Co...   \n",
      "6  https://www.amazon.com/SPORTS-Standard-PS4-Vid...   \n",
      "\n",
      "                                              Imagen  \n",
      "0  https://m.media-amazon.com/images/I/51rYOmLwRy...  \n",
      "1  https://m.media-amazon.com/images/I/81kWdfvs9l...  \n",
      "2  https://m.media-amazon.com/images/I/71w1N5tjy7...  \n",
      "3  https://m.media-amazon.com/images/I/31JlW2Ldlp...  \n",
      "4  https://m.media-amazon.com/images/I/51x2uufH6S...  \n",
      "5  https://m.media-amazon.com/images/I/71iKdXqlx2...  \n",
      "6  https://m.media-amazon.com/images/I/71Ybe66rz0...                                                 Product         Price  \\\n",
      "0   Apple iPhone 15 Pro 128GB ( Unlocked) US E-Sim...    US $854.99   \n",
      "1   Apple iPhone 15 Pro 128GB Unlocked AT&T T-Mobi...    US $854.95   \n",
      "2   Apple iPhone 15 5G - 128GB - All Colors - Fact...    US $735.99   \n",
      "3   Apple iPhone 15 256GB Factory Unlocked AT&T T-...    US $734.95   \n",
      "4   Apple iPhone 15 Plus 128GB Unlocked AT&T T-Mob...    US $714.95   \n",
      "5   Apple iPhone 15 - 128GB - Unlocked - Black - E...    US $690.00   \n",
      "6   Apple iPhone 15 128GB Factory Unlocked AT&T T-...    US $664.95   \n",
      "7   Apple iPhone 15 128GB ( Unlocked) US E-Sim Ver...    US $654.99   \n",
      "8   Apple iPhone 15 Pro Max 256GB Unlocked Excelle...  US $1,249.99   \n",
      "9   Apple - iPhone 15 PRO MAX - 256gb - Unlocked -...  US $1,179.99   \n",
      "10  Tempered Glass Screen Protector for iPhone 15 ...      GBP 0.99   \n",
      "\n",
      "                                                Image        Seller Name  \\\n",
      "0   https://i.ebayimg.com/images/g/ntAAAOSw~Ptl2Os...   Amazing Wireless   \n",
      "1   https://i.ebayimg.com/images/g/M8gAAOSwQORlnZb...      Supplytronics   \n",
      "2   https://i.ebayimg.com/images/g/LXYAAOSw~KhlYBf...  Wireless Reseller   \n",
      "3   https://i.ebayimg.com/images/g/vOsAAOSwBMdleez...      Supplytronics   \n",
      "4   https://i.ebayimg.com/images/g/usgAAOSw3nZloFo...      Supplytronics   \n",
      "5   https://i.ebayimg.com/images/g/VaAAAOSwdoZlg0~...       Buyback Boss   \n",
      "6   https://i.ebayimg.com/images/g/AbEAAOSw6aVlivI...      Supplytronics   \n",
      "7   https://i.ebayimg.com/images/g/VJUAAOSwwWZl2PI...   Amazing Wireless   \n",
      "8   https://i.ebayimg.com/images/g/z3YAAOSwiKxlc1N...       ItsWorthMore   \n",
      "9   https://i.ebayimg.com/images/g/Lg8AAOSwCuNlC0y...          ALLDAYZIP   \n",
      "10  https://i.ebayimg.com/images/g/iwEAAOSw-5llCsS...        wilko-tech1   \n",
      "\n",
      "     Seller Rating                Condition  \n",
      "0   99.4% positive  Excellent - Refurbished  \n",
      "1   98.8% positive  Very Good - Refurbished  \n",
      "2   99.3% positive  Excellent - Refurbished  \n",
      "3   98.8% positive  Excellent - Refurbished  \n",
      "4   98.8% positive  Very Good - Refurbished  \n",
      "5   98.8% positive  Excellent - Refurbished  \n",
      "6   98.8% positive  Very Good - Refurbished  \n",
      "7   99.4% positive  Excellent - Refurbished  \n",
      "8   98.9% positive  Excellent - Refurbished  \n",
      "9     99% positive                      New  \n",
      "10  99.6% positive                      New  \n"
     ]
    }
   ],
   "source": [
    "dfAmazon = pd.read_excel(r\"C:\\Users\\fagos\\PycharmProjects\\pythonProject\\DSF_Final\\Product_Analyzer_App\\output\\product1_amazon.xlsx\")\n",
    "dfEbay = pd.read_excel(r\"C:\\Users\\fagos\\PycharmProjects\\pythonProject\\DSF_Final\\Product_Analyzer_App\\output\\product1_ebay.xlsx\")\n",
    "print(dfAmazon, dfEbay)"
   ],
   "metadata": {
    "collapsed": false,
    "ExecuteTime": {
     "end_time": "2024-03-07T13:38:29.171120400Z",
     "start_time": "2024-03-07T13:38:29.139122400Z"
    }
   },
   "id": "2f0ab5a9fda410e2"
  },
  {
   "cell_type": "markdown",
   "source": [
    "### Website differences: \n",
    "Since Amazon and Ebay show different information about products, the dataframe were built different and the data shown in the streamlit app will be based on these data. "
   ],
   "metadata": {
    "collapsed": false
   },
   "id": "db2f4f1869e68bca"
  },
  {
   "cell_type": "code",
   "execution_count": 47,
   "outputs": [
    {
     "name": "stdout",
     "output_type": "stream",
     "text": [
      "Amazon dataframes columns:\n",
      " ['Producto', 'ASIN', 'Precio', 'Precio Original', 'Calificacion', 'Numero de Calificaciones', 'Enlace Producto', 'Imagen']\n",
      "Ebay dataframes columns: \n",
      " ['Product', 'Price', 'Image', 'Seller Name', 'Seller Rating', 'Condition']\n"
     ]
    }
   ],
   "source": [
    "print(\"Amazon dataframes columns:\\n\", list(dfAmazon.columns))\n",
    "print(\"Ebay dataframes columns: \\n\", list(dfEbay.columns))"
   ],
   "metadata": {
    "collapsed": false,
    "ExecuteTime": {
     "end_time": "2024-03-07T13:14:06.679414800Z",
     "start_time": "2024-03-07T13:14:06.653263700Z"
    }
   },
   "id": "21a8d869d77f0c68"
  },
  {
   "cell_type": "code",
   "execution_count": 48,
   "outputs": [
    {
     "name": "stdout",
     "output_type": "stream",
     "text": [
      "<class 'pandas.core.frame.DataFrame'>\n",
      "RangeIndex: 7 entries, 0 to 6\n",
      "Data columns (total 8 columns):\n",
      " #   Column                    Non-Null Count  Dtype  \n",
      "---  ------                    --------------  -----  \n",
      " 0   Producto                  7 non-null      object \n",
      " 1   ASIN                      7 non-null      object \n",
      " 2   Precio                    7 non-null      object \n",
      " 3   Precio Original           7 non-null      object \n",
      " 4   Calificacion              7 non-null      object \n",
      " 5   Numero de Calificaciones  7 non-null      float64\n",
      " 6   Enlace Producto           7 non-null      object \n",
      " 7   Imagen                    7 non-null      object \n",
      "dtypes: float64(1), object(7)\n",
      "memory usage: 576.0+ bytes\n"
     ]
    }
   ],
   "source": [
    "dfAmazon.info()"
   ],
   "metadata": {
    "collapsed": false,
    "ExecuteTime": {
     "end_time": "2024-03-07T13:14:08.600798Z",
     "start_time": "2024-03-07T13:14:08.572295400Z"
    }
   },
   "id": "89f65a63f0caf090"
  },
  {
   "cell_type": "code",
   "execution_count": 49,
   "outputs": [
    {
     "name": "stdout",
     "output_type": "stream",
     "text": [
      "<class 'pandas.core.frame.DataFrame'>\n",
      "RangeIndex: 11 entries, 0 to 10\n",
      "Data columns (total 6 columns):\n",
      " #   Column         Non-Null Count  Dtype \n",
      "---  ------         --------------  ----- \n",
      " 0   Product        11 non-null     object\n",
      " 1   Price          11 non-null     object\n",
      " 2   Image          11 non-null     object\n",
      " 3   Seller Name    11 non-null     object\n",
      " 4   Seller Rating  11 non-null     object\n",
      " 5   Condition      11 non-null     object\n",
      "dtypes: object(6)\n",
      "memory usage: 656.0+ bytes\n"
     ]
    }
   ],
   "source": [
    "dfEbay.info()"
   ],
   "metadata": {
    "collapsed": false,
    "ExecuteTime": {
     "end_time": "2024-03-07T13:14:10.819805Z",
     "start_time": "2024-03-07T13:14:10.804450700Z"
    }
   },
   "id": "aec382d30e38b089"
  },
  {
   "cell_type": "code",
   "execution_count": 68,
   "outputs": [
    {
     "data": {
      "text/plain": "                                             Product  Price  \\\n0  Apple iPhone 15 Pro 128GB ( Unlocked) US E-Sim...  854.0   \n1  Apple iPhone 15 Pro 128GB Unlocked AT&T T-Mobi...  854.0   \n2  Apple iPhone 15 5G - 128GB - All Colors - Fact...  735.0   \n\n                                               Image        Seller Name  \\\n0  https://i.ebayimg.com/images/g/ntAAAOSw~Ptl2Os...   Amazing Wireless   \n1  https://i.ebayimg.com/images/g/M8gAAOSwQORlnZb...      Supplytronics   \n2  https://i.ebayimg.com/images/g/LXYAAOSw~KhlYBf...  Wireless Reseller   \n\n    Seller Rating                Condition  \n0  99.4% positive  Excellent - Refurbished  \n1  98.8% positive  Very Good - Refurbished  \n2  99.3% positive  Excellent - Refurbished  ",
      "text/html": "<div>\n<style scoped>\n    .dataframe tbody tr th:only-of-type {\n        vertical-align: middle;\n    }\n\n    .dataframe tbody tr th {\n        vertical-align: top;\n    }\n\n    .dataframe thead th {\n        text-align: right;\n    }\n</style>\n<table border=\"1\" class=\"dataframe\">\n  <thead>\n    <tr style=\"text-align: right;\">\n      <th></th>\n      <th>Product</th>\n      <th>Price</th>\n      <th>Image</th>\n      <th>Seller Name</th>\n      <th>Seller Rating</th>\n      <th>Condition</th>\n    </tr>\n  </thead>\n  <tbody>\n    <tr>\n      <th>0</th>\n      <td>Apple iPhone 15 Pro 128GB ( Unlocked) US E-Sim...</td>\n      <td>854.0</td>\n      <td>https://i.ebayimg.com/images/g/ntAAAOSw~Ptl2Os...</td>\n      <td>Amazing Wireless</td>\n      <td>99.4% positive</td>\n      <td>Excellent - Refurbished</td>\n    </tr>\n    <tr>\n      <th>1</th>\n      <td>Apple iPhone 15 Pro 128GB Unlocked AT&amp;T T-Mobi...</td>\n      <td>854.0</td>\n      <td>https://i.ebayimg.com/images/g/M8gAAOSwQORlnZb...</td>\n      <td>Supplytronics</td>\n      <td>98.8% positive</td>\n      <td>Very Good - Refurbished</td>\n    </tr>\n    <tr>\n      <th>2</th>\n      <td>Apple iPhone 15 5G - 128GB - All Colors - Fact...</td>\n      <td>735.0</td>\n      <td>https://i.ebayimg.com/images/g/LXYAAOSw~KhlYBf...</td>\n      <td>Wireless Reseller</td>\n      <td>99.3% positive</td>\n      <td>Excellent - Refurbished</td>\n    </tr>\n  </tbody>\n</table>\n</div>"
     },
     "execution_count": 68,
     "metadata": {},
     "output_type": "execute_result"
    }
   ],
   "source": [
    "dfEbay_cleaned = cleanPriceCol(dfEbay, 'Price')\n",
    "dfEbay_cleaned.head(3)"
   ],
   "metadata": {
    "collapsed": false,
    "ExecuteTime": {
     "end_time": "2024-03-07T13:44:51.698224600Z",
     "start_time": "2024-03-07T13:44:51.644703800Z"
    }
   },
   "id": "d8d7bd168cb38dbf"
  },
  {
   "cell_type": "code",
   "execution_count": 69,
   "outputs": [
    {
     "data": {
      "text/plain": "                                            Producto        ASIN  Precio  \\\n6  EA SPORTS FC 24 Standard Edition PS4 | Videoju...  B0CB6VXYDQ  7999.0   \n0               7th Sector - LIMITED (PlayStation 4)  B0CK4RPY57     NaN   \n1  Sony Playstation 4 (PS4) - Consola 500 Gb + 2 ...  B07KBLNZB1     NaN   \n\n   Precio Original        Calificacion  Numero de Calificaciones  \\\n6          79,99 €  4,8 de 5 estrellas                   870.000   \n0  Sin Información  5,0 de 5 estrellas                     5.000   \n1  Sin Información  4,6 de 5 estrellas                     1.034   \n\n                                     Enlace Producto  \\\n6  https://www.amazon.com/SPORTS-Standard-PS4-Vid...   \n0  https://www.amazon.com/sspa/click?ie=UTF8&spc=...   \n1  https://www.amazon.com/Playstation-PS4-Consola...   \n\n                                              Imagen  \n6  https://m.media-amazon.com/images/I/71Ybe66rz0...  \n0  https://m.media-amazon.com/images/I/51rYOmLwRy...  \n1  https://m.media-amazon.com/images/I/81kWdfvs9l...  ",
      "text/html": "<div>\n<style scoped>\n    .dataframe tbody tr th:only-of-type {\n        vertical-align: middle;\n    }\n\n    .dataframe tbody tr th {\n        vertical-align: top;\n    }\n\n    .dataframe thead th {\n        text-align: right;\n    }\n</style>\n<table border=\"1\" class=\"dataframe\">\n  <thead>\n    <tr style=\"text-align: right;\">\n      <th></th>\n      <th>Producto</th>\n      <th>ASIN</th>\n      <th>Precio</th>\n      <th>Precio Original</th>\n      <th>Calificacion</th>\n      <th>Numero de Calificaciones</th>\n      <th>Enlace Producto</th>\n      <th>Imagen</th>\n    </tr>\n  </thead>\n  <tbody>\n    <tr>\n      <th>6</th>\n      <td>EA SPORTS FC 24 Standard Edition PS4 | Videoju...</td>\n      <td>B0CB6VXYDQ</td>\n      <td>7999.0</td>\n      <td>79,99 €</td>\n      <td>4,8 de 5 estrellas</td>\n      <td>870.000</td>\n      <td>https://www.amazon.com/SPORTS-Standard-PS4-Vid...</td>\n      <td>https://m.media-amazon.com/images/I/71Ybe66rz0...</td>\n    </tr>\n    <tr>\n      <th>0</th>\n      <td>7th Sector - LIMITED (PlayStation 4)</td>\n      <td>B0CK4RPY57</td>\n      <td>NaN</td>\n      <td>Sin Información</td>\n      <td>5,0 de 5 estrellas</td>\n      <td>5.000</td>\n      <td>https://www.amazon.com/sspa/click?ie=UTF8&amp;spc=...</td>\n      <td>https://m.media-amazon.com/images/I/51rYOmLwRy...</td>\n    </tr>\n    <tr>\n      <th>1</th>\n      <td>Sony Playstation 4 (PS4) - Consola 500 Gb + 2 ...</td>\n      <td>B07KBLNZB1</td>\n      <td>NaN</td>\n      <td>Sin Información</td>\n      <td>4,6 de 5 estrellas</td>\n      <td>1.034</td>\n      <td>https://www.amazon.com/Playstation-PS4-Consola...</td>\n      <td>https://m.media-amazon.com/images/I/81kWdfvs9l...</td>\n    </tr>\n  </tbody>\n</table>\n</div>"
     },
     "execution_count": 69,
     "metadata": {},
     "output_type": "execute_result"
    }
   ],
   "source": [
    "dfAmazon_cleaned = cleanPriceCol(dfAmazon, 'Precio')\n",
    "dfAmazon_cleaned.head(3)"
   ],
   "metadata": {
    "collapsed": false,
    "ExecuteTime": {
     "end_time": "2024-03-07T13:44:58.083941700Z",
     "start_time": "2024-03-07T13:44:58.024952200Z"
    }
   },
   "id": "4fc7e03b50711aa9"
  },
  {
   "cell_type": "markdown",
   "source": [
    "### Price Analysis:\n",
    "To analyze the Price column, we utilized a DataFrame scraped from eBay regarding the iPhone 15. As depicted in the histogram below, two distinct distributions are apparent. This occurrence arises because the scraper fails to differentiate between the main product and its accessories. The issue comes from the significant number of accessories available on both Amazon and eBay. Furthermore, the broad spectrum of products that users can search for within the app presents a considerable challenge in distinguishing between genuine products and accessories. Consequently, we opted to sort the values in descending order. Given that the majority of accessories are priced lower than the actual product, we determined this to be the appropriate approach for presenting users with the product they are seeking. "
   ],
   "metadata": {
    "collapsed": false
   },
   "id": "d35bf7824b2abb5d"
  },
  {
   "cell_type": "code",
   "execution_count": 72,
   "outputs": [
    {
     "data": {
      "text/plain": "(60, 6)"
     },
     "execution_count": 72,
     "metadata": {},
     "output_type": "execute_result"
    }
   ],
   "source": [
    "df = pd.read_excel(r\"C:\\Users\\fagos\\PycharmProjects\\pythonProject\\DSF_Final\\Product_Analyzer_App\\output\\FILE.xlsx\")\n",
    "df.shape"
   ],
   "metadata": {
    "collapsed": false,
    "ExecuteTime": {
     "end_time": "2024-03-07T13:46:15.883181Z",
     "start_time": "2024-03-07T13:46:15.841652800Z"
    }
   },
   "id": "951eefb6d2d08a2"
  },
  {
   "cell_type": "code",
   "execution_count": 73,
   "outputs": [
    {
     "data": {
      "text/plain": "                                              Product  Price  \\\n0   NEW*  Apple iPhone 15 Pro | 256GB Black Titan...  999.0   \n1   Apple iPhone 15 Pro 256gb ( Unlocked) US E-Sim...  926.0   \n2   Apple iPhone 15 Pro 256GB Unlocked AT&T T-Mobi...  914.0   \n3   *NEW OEM SEALED* Apple iPhone 15 -128GB (GSM U...  914.0   \n4   Brand New Apple iPhone 15 - 256GB - Green (Unl...  899.0   \n5   Apple iPhone 15 Pro - 128 GB Natural Titanium ...  875.0   \n6   Apple - iPhone 15 - 256GB - Unlocked - Factory...  874.0   \n7   Apple iPhone 15 Pro 128GB ( Unlocked) US E-Sim...  854.0   \n8   Apple iPhone 15 Pro 128GB Unlocked AT&T T-Mobi...  854.0   \n9   Apple iPhone 15 Pro 128GB Unlocked AT&T T-Mobi...  854.0   \n11  Apple iPhone 15 5G - 128GB - All Colors - Fact...  735.0   \n12  Apple iPhone 15 256GB Factory Unlocked AT&T T-...  734.0   \n13  Apple iPhone 15 128GB Unlocked Excellent Condi...  729.0   \n14  Apple iPhone 15 256GB Factory Unlocked AT&T T-...  724.0   \n15  Apple iPhone 15 Pro 128GB Black Titanium Veriz...  719.0   \n16  Apple iPhone 15 Plus 128GB Unlocked AT&T T-Mob...  714.0   \n17  Apple iPhone 15 Plus 128GB Unlocked AT&T T-Mob...  714.0   \n18  Apple iPhone 15 - 128GB - Unlocked - Black - E...  690.0   \n19  Apple iPhone 15 128GB Factory Unlocked AT&T T-...  664.0   \n20  Apple iPhone 15 128GB ( Unlocked) US E-Sim Ver...  654.0   \n23  Apple iPhone 15 Pro Max - 1TB - Blue Titanium ...  495.0   \n58  Apple iPhone 15 Pro Max Physical SIM Tray 256G...  222.0   \n59  Apple iPhone 15 Plus Physical SIM Tray 128Gb 2...  166.0   \n30  Apple iPhone 15 Pro Max 6.7\" 256GB REAL Dual S...  155.0   \n31  Apple iPhone 15 Pro Max 256GB UNLOCKED Natural...  139.0   \n32  Apple iPhone 15 Pro Max - 1TB - Black Titanium...  136.0   \n33  Apple iPhone 15 Pro Max 512GB Unlocked Excelle...  129.0   \n34  Apple iPhone 15 Pro Max 256GB Unlocked Excelle...  124.0   \n35  Apple iPhone 15 Pro Max 256GB UNLOCKED Natural...  121.0   \n36  Apple iPhone 15 Pro Max 512GB Unlocked Very Go...  119.0   \n37  Apple - iPhone 15 PRO MAX - 256gb - Unlocked -...  117.0   \n38  Apple iPhone 15 Pro Max 512GB Unlocked AT&T T-...  116.0   \n40  Apple iPhone 15 Pro Max 256GB Unlocked Very Go...  114.0   \n39  NEW*  Apple iPhone 15 Pro | 512GB Natural Tit...  114.0   \n41  Apple iPhone 15 Pro Max 512GB Unlocked AT&T T-...  111.0   \n42  New Factory Unlocked Apple iPhone 15 Pro eSIM ...  108.0   \n43  Apple iPhone 15 Pro - (ESIM) 128GB 256GB 512GB...  108.0   \n44  Apple iPhone 15 Pro - 256GB - Natural Titanium...  106.0   \n24  iPhone 15 14 13 13pro 12 11 Pro Pro Max Glass ...   39.0   \n26                                LV logo Phone Cases   23.0   \n28  For iPhone 15 14 Plus 13 12 Pro Max PC Fashion...   16.0   \n10  Shockproof Mag Safe TPU Case For iPhone 15 14 ...    8.0   \n57  2x real glass for iPhone 15 14 13 12 Pro Max a...    7.0   \n21  For iPhone 15 14 Plus 13 12 11 Pro Max Frosted...    5.0   \n22  2x iPhone 15 14 13 12 11 Pro Max Privacy AntiS...    5.0   \n45  Tempered Glass Screen Protector for iPhone 15 ...    3.0   \n46  Tempered Glass Screen Protector for iPhone 15 ...    3.0   \n25  For iPhone 15 Pro Max 14 13 12 11 XR XS Phone ...    3.0   \n27  For iPhone 15 14 13 12 11 Pro Max Tempered Gla...    2.0   \n47  For iPhone 15 14 13 12 11 Pro Max ShockProof M...    2.0   \n29  Case For iPhone 15 14 Pro Max 13 12 11 XR 8 SE...    1.0   \n48  Case For iPhone 15 14 Pro Max Plus 13 11 12 XR...    1.0   \n49  STAR GLITTER Case For iPhone 15 14 13 12 11 Pr...    1.0   \n50  Liquid Silicone Case For iPhone 15 14 13 12 11...    1.0   \n51  Case For iPhone 15 14 13 12 Pro Max Plus Shock...    0.0   \n52  Tempered Glass Screen Protector for iPhone 15 ...    0.0   \n53  Case For iPhone 14 13 12 11 15 Pro Max 7 8 SE ...    0.0   \n54  Tempered Glass Screen Protector For iPhone 15 ...    0.0   \n55  Case for iPhone 15 Pro Max 14 13 11 12 Mini 7 ...    0.0   \n56  Case For iPhone 15 14 Pro Max 11 13 12 Mini 7 ...    0.0   \n\n                                                Image             Seller Name  \\\n0   https://i.ebayimg.com/images/g/VpYAAOSwBklljaQ...          Adopt-A-Phone™   \n1   https://i.ebayimg.com/images/g/b8QAAOSwsndl2Ou...        Amazing Wireless   \n2   https://i.ebayimg.com/images/g/d60AAOSwFjlleez...           Supplytronics   \n3   https://i.ebayimg.com/images/g/ki0AAOSwYU9lU6B...          The Whiz Cells   \n4   https://i.ebayimg.com/images/g/twkAAOSwI0hlmHT...       Wireless Reseller   \n5   https://i.ebayimg.com/images/g/xhYAAOSwGSBl4Vs...               bree78183   \n6   https://i.ebayimg.com/images/g/cY4AAOSwWxZlCxd...               ALLDAYZIP   \n7   https://i.ebayimg.com/images/g/ntAAAOSw~Ptl2Os...        Amazing Wireless   \n8   https://i.ebayimg.com/images/g/fvoAAOSwV6tlnZc...           Supplytronics   \n9   https://i.ebayimg.com/images/g/M8gAAOSwQORlnZb...           Supplytronics   \n11  https://i.ebayimg.com/images/g/LXYAAOSw~KhlYBf...       Wireless Reseller   \n12  https://i.ebayimg.com/images/g/vOsAAOSwBMdleez...           Supplytronics   \n13  https://i.ebayimg.com/images/g/xvQAAOSw4Hdli1b...            ItsWorthMore   \n14  https://i.ebayimg.com/images/g/oYUAAOSw4TFlhEt...           Supplytronics   \n15  https://i.ebayimg.com/images/g/CmQAAOSwYwNlSmH...            ItsWorthMore   \n16  https://i.ebayimg.com/images/g/usgAAOSw3nZloFo...           Supplytronics   \n17  https://i.ebayimg.com/images/g/LGUAAOSwyxllhfY...           Supplytronics   \n18  https://i.ebayimg.com/images/g/VaAAAOSwdoZlg0~...            Buyback Boss   \n19  https://i.ebayimg.com/images/g/AbEAAOSw6aVlivI...           Supplytronics   \n20  https://i.ebayimg.com/images/g/VJUAAOSwwWZl2PI...        Amazing Wireless   \n23  https://i.ebayimg.com/images/g/2eYAAOSwxh9liz~...       mostthingsyouwant   \n58  https://i.ebayimg.com/images/g/JbcAAOSw0KNlBgi...           Hcir Supplies   \n59  https://i.ebayimg.com/images/g/Sa0AAOSwpohlKLw...           Hcir Supplies   \n30  https://i.ebayimg.com/images/g/g6oAAOSwz55lDET...     SmartShop Hong Kong   \n31  https://i.ebayimg.com/images/g/N-oAAOSwtv5lHu8...       Springfield Deals   \n32  https://i.ebayimg.com/images/g/fZUAAOSwoXZlgxy...            Buyback Boss   \n33  https://i.ebayimg.com/images/g/AP8AAOSwyzFlc1Q...            ItsWorthMore   \n34  https://i.ebayimg.com/images/g/z3YAAOSwiKxlc1N...            ItsWorthMore   \n35  https://i.ebayimg.com/images/g/49UAAOSw0mRll4y...                7K&C LLC   \n36  https://s3.amazonaws.com/iwm-ebay/images/produ...            ItsWorthMore   \n37  https://i.ebayimg.com/images/g/Lg8AAOSwCuNlC0y...               ALLDAYZIP   \n38  https://i.ebayimg.com/images/g/QpQAAOSwV-pllyA...           Supplytronics   \n40  https://i.ebayimg.com/images/g/438AAOSwGIVlc1M...            ItsWorthMore   \n39  https://i.ebayimg.com/images/g/ZPoAAOSwioNlpq0...          Adopt-A-Phone™   \n41  https://i.ebayimg.com/images/g/TqUAAOSwVcRllyA...           Supplytronics   \n42  https://i.ebayimg.com/images/g/Y6kAAOSwFlJl3hF...         Surgeon Store31   \n43  https://i.ebayimg.com/images/g/o84AAOSw9W5l1ng...   WeDeliverWireless.com   \n44  https://i.ebayimg.com/images/g/-NUAAOSwoD1lnaL...        iPowerResale Inc   \n24  https://i.ebayimg.com/images/g/m4YAAOSwz3xl2lg...     iFixScreens-Merrick   \n26  https://i.ebayimg.com/images/g/pioAAOSw441l3Oc...               nobrad_23   \n28  https://i.ebayimg.com/images/g/ejwAAOSwcpFlq2U...              li_wenping   \n10  https://i.ebayimg.com/images/g/8LwAAOSwWxBluUQ...      XG-Tech Wholesaler   \n57  https://i.ebayimg.com/images/g/iPQAAOSwID5lIrV...           ehan-mobile24   \n21  https://i.ebayimg.com/images/g/cJIAAOSwFmFlgf1...              QZW_VISION   \n22  https://i.ebayimg.com/images/g/XD8AAOSwzNxls~g...      XG-Tech Wholesaler   \n45  https://i.ebayimg.com/images/g/BBYAAOSwQbllRgN...          Gadget Bug LTD   \n46  https://i.ebayimg.com/images/g/-Q8AAOSw4H5lp1s...          Gadget Bug LTD   \n25  https://i.ebayimg.com/images/g/FaYAAOSwX-pkRsF...              QZW_VISION   \n27  https://i.ebayimg.com/images/g/cZYAAOSwkQFkSyN...                jkooteck   \n47  https://i.ebayimg.com/images/g/r1EAAOSwiKVlY00...            TrendySavers   \n29  https://i.ebayimg.com/images/g/WKMAAOSwt-xjYzK...              ehk2720171   \n48  https://i.ebayimg.com/images/g/vT8AAOSw3WNjHK5...           Decal-Designs   \n49  https://i.ebayimg.com/images/g/JGQAAOSwvmJiVDM...        RETRO SWEET SHOP   \n50  https://i.ebayimg.com/images/g/EP8AAOSwWKhgtIR...                xuanyuuk   \n51  https://i.ebayimg.com/images/g/eGoAAOSwtyBlpnq...  best-apple-accessories   \n52  https://i.ebayimg.com/images/g/iwEAAOSw-5llCsS...             wilko-tech1   \n53  https://i.ebayimg.com/images/g/48MAAOSw3p9lgM8...               manafaru1   \n54  https://i.ebayimg.com/images/g/isUAAOSwi6xl4sM...         For-You-Quality   \n55  https://i.ebayimg.com/images/g/SDYAAOSwAgJk~xR...  best-apple-accessories   \n56  https://i.ebayimg.com/images/g/wogAAOSwoA1lTKL...                  viva41   \n\n     Seller Rating                Condition  \n0    100% positive                 Open box  \n1   99.4% positive  Excellent - Refurbished  \n2   98.8% positive  Very Good - Refurbished  \n3   98.6% positive                      New  \n4   99.3% positive                      New  \n5    100% positive                     Used  \n6   99.1% positive                      New  \n7   99.4% positive  Excellent - Refurbished  \n8   98.8% positive  Excellent - Refurbished  \n9   98.8% positive  Very Good - Refurbished  \n11  99.3% positive  Excellent - Refurbished  \n12  98.8% positive  Excellent - Refurbished  \n13  98.9% positive  Excellent - Refurbished  \n14  98.8% positive  Very Good - Refurbished  \n15  98.9% positive                     Used  \n16  98.8% positive  Very Good - Refurbished  \n17  98.8% positive  Excellent - Refurbished  \n18  98.8% positive  Excellent - Refurbished  \n19  98.8% positive  Very Good - Refurbished  \n20  99.4% positive  Excellent - Refurbished  \n23  99.3% positive                 Open box  \n58  97.6% positive                      New  \n59  97.6% positive                      New  \n30   100% positive                      New  \n31  99.5% positive                      New  \n32  98.8% positive                 Open box  \n33  98.9% positive  Excellent - Refurbished  \n34  98.9% positive  Excellent - Refurbished  \n35   100% positive                      New  \n36  98.9% positive  Very Good - Refurbished  \n37  99.1% positive                      New  \n38  98.8% positive  Excellent - Refurbished  \n40  98.9% positive  Very Good - Refurbished  \n39   100% positive                 Open box  \n41  98.8% positive  Very Good - Refurbished  \n42   100% positive                      New  \n43  98.7% positive                      New  \n44  99.1% positive                 Open box  \n24  98.4% positive                      New  \n26  82.6% positive                      New  \n28  87.5% positive                      New  \n10  98.6% positive                      New  \n57  99.6% positive                      New  \n21  98.9% positive                      New  \n22  98.6% positive                      New  \n45  98.7% positive                      New  \n46  98.7% positive                      New  \n25  98.9% positive                      New  \n27  97.2% positive                      New  \n47  98.8% positive                      New  \n29  96.7% positive                      New  \n48  99.3% positive                      New  \n49  98.9% positive                      New  \n50  97.2% positive                      New  \n51  98.5% positive                      New  \n52  99.6% positive                      New  \n53  99.8% positive                      New  \n54  99.1% positive                      New  \n55  98.5% positive                      New  \n56  98.8% positive                      New  ",
      "text/html": "<div>\n<style scoped>\n    .dataframe tbody tr th:only-of-type {\n        vertical-align: middle;\n    }\n\n    .dataframe tbody tr th {\n        vertical-align: top;\n    }\n\n    .dataframe thead th {\n        text-align: right;\n    }\n</style>\n<table border=\"1\" class=\"dataframe\">\n  <thead>\n    <tr style=\"text-align: right;\">\n      <th></th>\n      <th>Product</th>\n      <th>Price</th>\n      <th>Image</th>\n      <th>Seller Name</th>\n      <th>Seller Rating</th>\n      <th>Condition</th>\n    </tr>\n  </thead>\n  <tbody>\n    <tr>\n      <th>0</th>\n      <td>NEW*  Apple iPhone 15 Pro | 256GB Black Titan...</td>\n      <td>999.0</td>\n      <td>https://i.ebayimg.com/images/g/VpYAAOSwBklljaQ...</td>\n      <td>Adopt-A-Phone™</td>\n      <td>100% positive</td>\n      <td>Open box</td>\n    </tr>\n    <tr>\n      <th>1</th>\n      <td>Apple iPhone 15 Pro 256gb ( Unlocked) US E-Sim...</td>\n      <td>926.0</td>\n      <td>https://i.ebayimg.com/images/g/b8QAAOSwsndl2Ou...</td>\n      <td>Amazing Wireless</td>\n      <td>99.4% positive</td>\n      <td>Excellent - Refurbished</td>\n    </tr>\n    <tr>\n      <th>2</th>\n      <td>Apple iPhone 15 Pro 256GB Unlocked AT&amp;T T-Mobi...</td>\n      <td>914.0</td>\n      <td>https://i.ebayimg.com/images/g/d60AAOSwFjlleez...</td>\n      <td>Supplytronics</td>\n      <td>98.8% positive</td>\n      <td>Very Good - Refurbished</td>\n    </tr>\n    <tr>\n      <th>3</th>\n      <td>*NEW OEM SEALED* Apple iPhone 15 -128GB (GSM U...</td>\n      <td>914.0</td>\n      <td>https://i.ebayimg.com/images/g/ki0AAOSwYU9lU6B...</td>\n      <td>The Whiz Cells</td>\n      <td>98.6% positive</td>\n      <td>New</td>\n    </tr>\n    <tr>\n      <th>4</th>\n      <td>Brand New Apple iPhone 15 - 256GB - Green (Unl...</td>\n      <td>899.0</td>\n      <td>https://i.ebayimg.com/images/g/twkAAOSwI0hlmHT...</td>\n      <td>Wireless Reseller</td>\n      <td>99.3% positive</td>\n      <td>New</td>\n    </tr>\n    <tr>\n      <th>5</th>\n      <td>Apple iPhone 15 Pro - 128 GB Natural Titanium ...</td>\n      <td>875.0</td>\n      <td>https://i.ebayimg.com/images/g/xhYAAOSwGSBl4Vs...</td>\n      <td>bree78183</td>\n      <td>100% positive</td>\n      <td>Used</td>\n    </tr>\n    <tr>\n      <th>6</th>\n      <td>Apple - iPhone 15 - 256GB - Unlocked - Factory...</td>\n      <td>874.0</td>\n      <td>https://i.ebayimg.com/images/g/cY4AAOSwWxZlCxd...</td>\n      <td>ALLDAYZIP</td>\n      <td>99.1% positive</td>\n      <td>New</td>\n    </tr>\n    <tr>\n      <th>7</th>\n      <td>Apple iPhone 15 Pro 128GB ( Unlocked) US E-Sim...</td>\n      <td>854.0</td>\n      <td>https://i.ebayimg.com/images/g/ntAAAOSw~Ptl2Os...</td>\n      <td>Amazing Wireless</td>\n      <td>99.4% positive</td>\n      <td>Excellent - Refurbished</td>\n    </tr>\n    <tr>\n      <th>8</th>\n      <td>Apple iPhone 15 Pro 128GB Unlocked AT&amp;T T-Mobi...</td>\n      <td>854.0</td>\n      <td>https://i.ebayimg.com/images/g/fvoAAOSwV6tlnZc...</td>\n      <td>Supplytronics</td>\n      <td>98.8% positive</td>\n      <td>Excellent - Refurbished</td>\n    </tr>\n    <tr>\n      <th>9</th>\n      <td>Apple iPhone 15 Pro 128GB Unlocked AT&amp;T T-Mobi...</td>\n      <td>854.0</td>\n      <td>https://i.ebayimg.com/images/g/M8gAAOSwQORlnZb...</td>\n      <td>Supplytronics</td>\n      <td>98.8% positive</td>\n      <td>Very Good - Refurbished</td>\n    </tr>\n    <tr>\n      <th>11</th>\n      <td>Apple iPhone 15 5G - 128GB - All Colors - Fact...</td>\n      <td>735.0</td>\n      <td>https://i.ebayimg.com/images/g/LXYAAOSw~KhlYBf...</td>\n      <td>Wireless Reseller</td>\n      <td>99.3% positive</td>\n      <td>Excellent - Refurbished</td>\n    </tr>\n    <tr>\n      <th>12</th>\n      <td>Apple iPhone 15 256GB Factory Unlocked AT&amp;T T-...</td>\n      <td>734.0</td>\n      <td>https://i.ebayimg.com/images/g/vOsAAOSwBMdleez...</td>\n      <td>Supplytronics</td>\n      <td>98.8% positive</td>\n      <td>Excellent - Refurbished</td>\n    </tr>\n    <tr>\n      <th>13</th>\n      <td>Apple iPhone 15 128GB Unlocked Excellent Condi...</td>\n      <td>729.0</td>\n      <td>https://i.ebayimg.com/images/g/xvQAAOSw4Hdli1b...</td>\n      <td>ItsWorthMore</td>\n      <td>98.9% positive</td>\n      <td>Excellent - Refurbished</td>\n    </tr>\n    <tr>\n      <th>14</th>\n      <td>Apple iPhone 15 256GB Factory Unlocked AT&amp;T T-...</td>\n      <td>724.0</td>\n      <td>https://i.ebayimg.com/images/g/oYUAAOSw4TFlhEt...</td>\n      <td>Supplytronics</td>\n      <td>98.8% positive</td>\n      <td>Very Good - Refurbished</td>\n    </tr>\n    <tr>\n      <th>15</th>\n      <td>Apple iPhone 15 Pro 128GB Black Titanium Veriz...</td>\n      <td>719.0</td>\n      <td>https://i.ebayimg.com/images/g/CmQAAOSwYwNlSmH...</td>\n      <td>ItsWorthMore</td>\n      <td>98.9% positive</td>\n      <td>Used</td>\n    </tr>\n    <tr>\n      <th>16</th>\n      <td>Apple iPhone 15 Plus 128GB Unlocked AT&amp;T T-Mob...</td>\n      <td>714.0</td>\n      <td>https://i.ebayimg.com/images/g/usgAAOSw3nZloFo...</td>\n      <td>Supplytronics</td>\n      <td>98.8% positive</td>\n      <td>Very Good - Refurbished</td>\n    </tr>\n    <tr>\n      <th>17</th>\n      <td>Apple iPhone 15 Plus 128GB Unlocked AT&amp;T T-Mob...</td>\n      <td>714.0</td>\n      <td>https://i.ebayimg.com/images/g/LGUAAOSwyxllhfY...</td>\n      <td>Supplytronics</td>\n      <td>98.8% positive</td>\n      <td>Excellent - Refurbished</td>\n    </tr>\n    <tr>\n      <th>18</th>\n      <td>Apple iPhone 15 - 128GB - Unlocked - Black - E...</td>\n      <td>690.0</td>\n      <td>https://i.ebayimg.com/images/g/VaAAAOSwdoZlg0~...</td>\n      <td>Buyback Boss</td>\n      <td>98.8% positive</td>\n      <td>Excellent - Refurbished</td>\n    </tr>\n    <tr>\n      <th>19</th>\n      <td>Apple iPhone 15 128GB Factory Unlocked AT&amp;T T-...</td>\n      <td>664.0</td>\n      <td>https://i.ebayimg.com/images/g/AbEAAOSw6aVlivI...</td>\n      <td>Supplytronics</td>\n      <td>98.8% positive</td>\n      <td>Very Good - Refurbished</td>\n    </tr>\n    <tr>\n      <th>20</th>\n      <td>Apple iPhone 15 128GB ( Unlocked) US E-Sim Ver...</td>\n      <td>654.0</td>\n      <td>https://i.ebayimg.com/images/g/VJUAAOSwwWZl2PI...</td>\n      <td>Amazing Wireless</td>\n      <td>99.4% positive</td>\n      <td>Excellent - Refurbished</td>\n    </tr>\n    <tr>\n      <th>23</th>\n      <td>Apple iPhone 15 Pro Max - 1TB - Blue Titanium ...</td>\n      <td>495.0</td>\n      <td>https://i.ebayimg.com/images/g/2eYAAOSwxh9liz~...</td>\n      <td>mostthingsyouwant</td>\n      <td>99.3% positive</td>\n      <td>Open box</td>\n    </tr>\n    <tr>\n      <th>58</th>\n      <td>Apple iPhone 15 Pro Max Physical SIM Tray 256G...</td>\n      <td>222.0</td>\n      <td>https://i.ebayimg.com/images/g/JbcAAOSw0KNlBgi...</td>\n      <td>Hcir Supplies</td>\n      <td>97.6% positive</td>\n      <td>New</td>\n    </tr>\n    <tr>\n      <th>59</th>\n      <td>Apple iPhone 15 Plus Physical SIM Tray 128Gb 2...</td>\n      <td>166.0</td>\n      <td>https://i.ebayimg.com/images/g/Sa0AAOSwpohlKLw...</td>\n      <td>Hcir Supplies</td>\n      <td>97.6% positive</td>\n      <td>New</td>\n    </tr>\n    <tr>\n      <th>30</th>\n      <td>Apple iPhone 15 Pro Max 6.7\" 256GB REAL Dual S...</td>\n      <td>155.0</td>\n      <td>https://i.ebayimg.com/images/g/g6oAAOSwz55lDET...</td>\n      <td>SmartShop Hong Kong</td>\n      <td>100% positive</td>\n      <td>New</td>\n    </tr>\n    <tr>\n      <th>31</th>\n      <td>Apple iPhone 15 Pro Max 256GB UNLOCKED Natural...</td>\n      <td>139.0</td>\n      <td>https://i.ebayimg.com/images/g/N-oAAOSwtv5lHu8...</td>\n      <td>Springfield Deals</td>\n      <td>99.5% positive</td>\n      <td>New</td>\n    </tr>\n    <tr>\n      <th>32</th>\n      <td>Apple iPhone 15 Pro Max - 1TB - Black Titanium...</td>\n      <td>136.0</td>\n      <td>https://i.ebayimg.com/images/g/fZUAAOSwoXZlgxy...</td>\n      <td>Buyback Boss</td>\n      <td>98.8% positive</td>\n      <td>Open box</td>\n    </tr>\n    <tr>\n      <th>33</th>\n      <td>Apple iPhone 15 Pro Max 512GB Unlocked Excelle...</td>\n      <td>129.0</td>\n      <td>https://i.ebayimg.com/images/g/AP8AAOSwyzFlc1Q...</td>\n      <td>ItsWorthMore</td>\n      <td>98.9% positive</td>\n      <td>Excellent - Refurbished</td>\n    </tr>\n    <tr>\n      <th>34</th>\n      <td>Apple iPhone 15 Pro Max 256GB Unlocked Excelle...</td>\n      <td>124.0</td>\n      <td>https://i.ebayimg.com/images/g/z3YAAOSwiKxlc1N...</td>\n      <td>ItsWorthMore</td>\n      <td>98.9% positive</td>\n      <td>Excellent - Refurbished</td>\n    </tr>\n    <tr>\n      <th>35</th>\n      <td>Apple iPhone 15 Pro Max 256GB UNLOCKED Natural...</td>\n      <td>121.0</td>\n      <td>https://i.ebayimg.com/images/g/49UAAOSw0mRll4y...</td>\n      <td>7K&amp;C LLC</td>\n      <td>100% positive</td>\n      <td>New</td>\n    </tr>\n    <tr>\n      <th>36</th>\n      <td>Apple iPhone 15 Pro Max 512GB Unlocked Very Go...</td>\n      <td>119.0</td>\n      <td>https://s3.amazonaws.com/iwm-ebay/images/produ...</td>\n      <td>ItsWorthMore</td>\n      <td>98.9% positive</td>\n      <td>Very Good - Refurbished</td>\n    </tr>\n    <tr>\n      <th>37</th>\n      <td>Apple - iPhone 15 PRO MAX - 256gb - Unlocked -...</td>\n      <td>117.0</td>\n      <td>https://i.ebayimg.com/images/g/Lg8AAOSwCuNlC0y...</td>\n      <td>ALLDAYZIP</td>\n      <td>99.1% positive</td>\n      <td>New</td>\n    </tr>\n    <tr>\n      <th>38</th>\n      <td>Apple iPhone 15 Pro Max 512GB Unlocked AT&amp;T T-...</td>\n      <td>116.0</td>\n      <td>https://i.ebayimg.com/images/g/QpQAAOSwV-pllyA...</td>\n      <td>Supplytronics</td>\n      <td>98.8% positive</td>\n      <td>Excellent - Refurbished</td>\n    </tr>\n    <tr>\n      <th>40</th>\n      <td>Apple iPhone 15 Pro Max 256GB Unlocked Very Go...</td>\n      <td>114.0</td>\n      <td>https://i.ebayimg.com/images/g/438AAOSwGIVlc1M...</td>\n      <td>ItsWorthMore</td>\n      <td>98.9% positive</td>\n      <td>Very Good - Refurbished</td>\n    </tr>\n    <tr>\n      <th>39</th>\n      <td>NEW*  Apple iPhone 15 Pro | 512GB Natural Tit...</td>\n      <td>114.0</td>\n      <td>https://i.ebayimg.com/images/g/ZPoAAOSwioNlpq0...</td>\n      <td>Adopt-A-Phone™</td>\n      <td>100% positive</td>\n      <td>Open box</td>\n    </tr>\n    <tr>\n      <th>41</th>\n      <td>Apple iPhone 15 Pro Max 512GB Unlocked AT&amp;T T-...</td>\n      <td>111.0</td>\n      <td>https://i.ebayimg.com/images/g/TqUAAOSwVcRllyA...</td>\n      <td>Supplytronics</td>\n      <td>98.8% positive</td>\n      <td>Very Good - Refurbished</td>\n    </tr>\n    <tr>\n      <th>42</th>\n      <td>New Factory Unlocked Apple iPhone 15 Pro eSIM ...</td>\n      <td>108.0</td>\n      <td>https://i.ebayimg.com/images/g/Y6kAAOSwFlJl3hF...</td>\n      <td>Surgeon Store31</td>\n      <td>100% positive</td>\n      <td>New</td>\n    </tr>\n    <tr>\n      <th>43</th>\n      <td>Apple iPhone 15 Pro - (ESIM) 128GB 256GB 512GB...</td>\n      <td>108.0</td>\n      <td>https://i.ebayimg.com/images/g/o84AAOSw9W5l1ng...</td>\n      <td>WeDeliverWireless.com</td>\n      <td>98.7% positive</td>\n      <td>New</td>\n    </tr>\n    <tr>\n      <th>44</th>\n      <td>Apple iPhone 15 Pro - 256GB - Natural Titanium...</td>\n      <td>106.0</td>\n      <td>https://i.ebayimg.com/images/g/-NUAAOSwoD1lnaL...</td>\n      <td>iPowerResale Inc</td>\n      <td>99.1% positive</td>\n      <td>Open box</td>\n    </tr>\n    <tr>\n      <th>24</th>\n      <td>iPhone 15 14 13 13pro 12 11 Pro Pro Max Glass ...</td>\n      <td>39.0</td>\n      <td>https://i.ebayimg.com/images/g/m4YAAOSwz3xl2lg...</td>\n      <td>iFixScreens-Merrick</td>\n      <td>98.4% positive</td>\n      <td>New</td>\n    </tr>\n    <tr>\n      <th>26</th>\n      <td>LV logo Phone Cases</td>\n      <td>23.0</td>\n      <td>https://i.ebayimg.com/images/g/pioAAOSw441l3Oc...</td>\n      <td>nobrad_23</td>\n      <td>82.6% positive</td>\n      <td>New</td>\n    </tr>\n    <tr>\n      <th>28</th>\n      <td>For iPhone 15 14 Plus 13 12 Pro Max PC Fashion...</td>\n      <td>16.0</td>\n      <td>https://i.ebayimg.com/images/g/ejwAAOSwcpFlq2U...</td>\n      <td>li_wenping</td>\n      <td>87.5% positive</td>\n      <td>New</td>\n    </tr>\n    <tr>\n      <th>10</th>\n      <td>Shockproof Mag Safe TPU Case For iPhone 15 14 ...</td>\n      <td>8.0</td>\n      <td>https://i.ebayimg.com/images/g/8LwAAOSwWxBluUQ...</td>\n      <td>XG-Tech Wholesaler</td>\n      <td>98.6% positive</td>\n      <td>New</td>\n    </tr>\n    <tr>\n      <th>57</th>\n      <td>2x real glass for iPhone 15 14 13 12 Pro Max a...</td>\n      <td>7.0</td>\n      <td>https://i.ebayimg.com/images/g/iPQAAOSwID5lIrV...</td>\n      <td>ehan-mobile24</td>\n      <td>99.6% positive</td>\n      <td>New</td>\n    </tr>\n    <tr>\n      <th>21</th>\n      <td>For iPhone 15 14 Plus 13 12 11 Pro Max Frosted...</td>\n      <td>5.0</td>\n      <td>https://i.ebayimg.com/images/g/cJIAAOSwFmFlgf1...</td>\n      <td>QZW_VISION</td>\n      <td>98.9% positive</td>\n      <td>New</td>\n    </tr>\n    <tr>\n      <th>22</th>\n      <td>2x iPhone 15 14 13 12 11 Pro Max Privacy AntiS...</td>\n      <td>5.0</td>\n      <td>https://i.ebayimg.com/images/g/XD8AAOSwzNxls~g...</td>\n      <td>XG-Tech Wholesaler</td>\n      <td>98.6% positive</td>\n      <td>New</td>\n    </tr>\n    <tr>\n      <th>45</th>\n      <td>Tempered Glass Screen Protector for iPhone 15 ...</td>\n      <td>3.0</td>\n      <td>https://i.ebayimg.com/images/g/BBYAAOSwQbllRgN...</td>\n      <td>Gadget Bug LTD</td>\n      <td>98.7% positive</td>\n      <td>New</td>\n    </tr>\n    <tr>\n      <th>46</th>\n      <td>Tempered Glass Screen Protector for iPhone 15 ...</td>\n      <td>3.0</td>\n      <td>https://i.ebayimg.com/images/g/-Q8AAOSw4H5lp1s...</td>\n      <td>Gadget Bug LTD</td>\n      <td>98.7% positive</td>\n      <td>New</td>\n    </tr>\n    <tr>\n      <th>25</th>\n      <td>For iPhone 15 Pro Max 14 13 12 11 XR XS Phone ...</td>\n      <td>3.0</td>\n      <td>https://i.ebayimg.com/images/g/FaYAAOSwX-pkRsF...</td>\n      <td>QZW_VISION</td>\n      <td>98.9% positive</td>\n      <td>New</td>\n    </tr>\n    <tr>\n      <th>27</th>\n      <td>For iPhone 15 14 13 12 11 Pro Max Tempered Gla...</td>\n      <td>2.0</td>\n      <td>https://i.ebayimg.com/images/g/cZYAAOSwkQFkSyN...</td>\n      <td>jkooteck</td>\n      <td>97.2% positive</td>\n      <td>New</td>\n    </tr>\n    <tr>\n      <th>47</th>\n      <td>For iPhone 15 14 13 12 11 Pro Max ShockProof M...</td>\n      <td>2.0</td>\n      <td>https://i.ebayimg.com/images/g/r1EAAOSwiKVlY00...</td>\n      <td>TrendySavers</td>\n      <td>98.8% positive</td>\n      <td>New</td>\n    </tr>\n    <tr>\n      <th>29</th>\n      <td>Case For iPhone 15 14 Pro Max 13 12 11 XR 8 SE...</td>\n      <td>1.0</td>\n      <td>https://i.ebayimg.com/images/g/WKMAAOSwt-xjYzK...</td>\n      <td>ehk2720171</td>\n      <td>96.7% positive</td>\n      <td>New</td>\n    </tr>\n    <tr>\n      <th>48</th>\n      <td>Case For iPhone 15 14 Pro Max Plus 13 11 12 XR...</td>\n      <td>1.0</td>\n      <td>https://i.ebayimg.com/images/g/vT8AAOSw3WNjHK5...</td>\n      <td>Decal-Designs</td>\n      <td>99.3% positive</td>\n      <td>New</td>\n    </tr>\n    <tr>\n      <th>49</th>\n      <td>STAR GLITTER Case For iPhone 15 14 13 12 11 Pr...</td>\n      <td>1.0</td>\n      <td>https://i.ebayimg.com/images/g/JGQAAOSwvmJiVDM...</td>\n      <td>RETRO SWEET SHOP</td>\n      <td>98.9% positive</td>\n      <td>New</td>\n    </tr>\n    <tr>\n      <th>50</th>\n      <td>Liquid Silicone Case For iPhone 15 14 13 12 11...</td>\n      <td>1.0</td>\n      <td>https://i.ebayimg.com/images/g/EP8AAOSwWKhgtIR...</td>\n      <td>xuanyuuk</td>\n      <td>97.2% positive</td>\n      <td>New</td>\n    </tr>\n    <tr>\n      <th>51</th>\n      <td>Case For iPhone 15 14 13 12 Pro Max Plus Shock...</td>\n      <td>0.0</td>\n      <td>https://i.ebayimg.com/images/g/eGoAAOSwtyBlpnq...</td>\n      <td>best-apple-accessories</td>\n      <td>98.5% positive</td>\n      <td>New</td>\n    </tr>\n    <tr>\n      <th>52</th>\n      <td>Tempered Glass Screen Protector for iPhone 15 ...</td>\n      <td>0.0</td>\n      <td>https://i.ebayimg.com/images/g/iwEAAOSw-5llCsS...</td>\n      <td>wilko-tech1</td>\n      <td>99.6% positive</td>\n      <td>New</td>\n    </tr>\n    <tr>\n      <th>53</th>\n      <td>Case For iPhone 14 13 12 11 15 Pro Max 7 8 SE ...</td>\n      <td>0.0</td>\n      <td>https://i.ebayimg.com/images/g/48MAAOSw3p9lgM8...</td>\n      <td>manafaru1</td>\n      <td>99.8% positive</td>\n      <td>New</td>\n    </tr>\n    <tr>\n      <th>54</th>\n      <td>Tempered Glass Screen Protector For iPhone 15 ...</td>\n      <td>0.0</td>\n      <td>https://i.ebayimg.com/images/g/isUAAOSwi6xl4sM...</td>\n      <td>For-You-Quality</td>\n      <td>99.1% positive</td>\n      <td>New</td>\n    </tr>\n    <tr>\n      <th>55</th>\n      <td>Case for iPhone 15 Pro Max 14 13 11 12 Mini 7 ...</td>\n      <td>0.0</td>\n      <td>https://i.ebayimg.com/images/g/SDYAAOSwAgJk~xR...</td>\n      <td>best-apple-accessories</td>\n      <td>98.5% positive</td>\n      <td>New</td>\n    </tr>\n    <tr>\n      <th>56</th>\n      <td>Case For iPhone 15 14 Pro Max 11 13 12 Mini 7 ...</td>\n      <td>0.0</td>\n      <td>https://i.ebayimg.com/images/g/wogAAOSwoA1lTKL...</td>\n      <td>viva41</td>\n      <td>98.8% positive</td>\n      <td>New</td>\n    </tr>\n  </tbody>\n</table>\n</div>"
     },
     "execution_count": 73,
     "metadata": {},
     "output_type": "execute_result"
    }
   ],
   "source": [
    "df_clean = cleanPriceCol(df, \"Price\")\n",
    "df_clean"
   ],
   "metadata": {
    "collapsed": false,
    "ExecuteTime": {
     "end_time": "2024-03-07T13:46:16.750092Z",
     "start_time": "2024-03-07T13:46:16.717081600Z"
    }
   },
   "id": "c869cedd1c7b429a"
  },
  {
   "cell_type": "code",
   "execution_count": 101,
   "outputs": [
    {
     "data": {
      "text/plain": "<Figure size 1000x500 with 2 Axes>",
      "image/png": "[encoded data removed]"
     },
     "metadata": {},
     "output_type": "display_data"
    }
   ],
   "source": [
    "fig, axs = plt.subplots(1, 2, figsize=(10, 5))\n",
    "sns.set_palette('plasma')\n",
    "\n",
    "sns.boxplot(df_clean['Price'], ax=axs[0])\n",
    "axs[0].set_title('Box Plot for Price of iPhone 15')\n",
    "\n",
    "sns.histplot(df_clean['Price'], ax=axs[1])\n",
    "axs[1].set_title('Histogram for Price of iPhone 15')\n",
    "\n",
    "plt.tight_layout()\n",
    "plt.show()"
   ],
   "metadata": {
    "collapsed": false,
    "ExecuteTime": {
     "end_time": "2024-03-07T13:56:07.707130400Z",
     "start_time": "2024-03-07T13:56:06.827120100Z"
    }
   },
   "id": "9e3fd19738098f50"
  }
 ],
 "metadata": {
  "kernelspec": {
   "display_name": "Python 3",
   "language": "python",
   "name": "python3"
  },
  "language_info": {
   "codemirror_mode": {
    "name": "ipython",
    "version": 2
   },
   "file_extension": ".py",
   "mimetype": "text/x-python",
   "name": "python",
   "nbconvert_exporter": "python",
   "pygments_lexer": "ipython2",
   "version": "2.7.6"
  }
 },
 "nbformat": 4,
 "nbformat_minor": 5
}
