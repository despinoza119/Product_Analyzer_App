{
 "cells": [
  {
   "cell_type": "code",
   "execution_count": 22,
   "outputs": [],
   "source": [
    "import pandas as pd"
   ],
   "metadata": {
    "collapsed": false,
    "ExecuteTime": {
     "end_time": "2024-03-06T22:54:39.191091200Z",
     "start_time": "2024-03-06T22:54:39.155313900Z"
    }
   },
   "id": "75bed5d40165a0a1"
  },
  {
   "cell_type": "code",
   "execution_count": 23,
   "outputs": [
    {
     "data": {
      "text/plain": "                                              Product       Price  \\\n0   Phone Case For Samsung S23 S24 Ultra S22 S21 F...    GBP 2.89   \n1   Samsung Galaxy S22+ Plus - 128-256GB - Fully U...  US $349.99   \n2   SAMSUNG Galaxy S22 5G S901U 128GB/256GB - US N...  US $410.00   \n3   SAMSUNG GALAXY NOTE 20 S21 S22 ULTRA-UNLOCKED-...  US $164.99   \n4   Shockproof Case For Samsung Galaxy S24 S23 S22...    GBP 3.99   \n..                                                ...         ...   \n62  Rugged Shockproof Armor Case For Samsung Galax...    US $2.59   \n63  360 Shockproof FULL Case For Samsung S23 S20 F...    GBP 3.99   \n64  Shockproof Clear Case For Samsung Galaxy S24 S...    US $7.45   \n65  For Samsung Galaxy S24 S23+ S22 Ultra Shockpro...    US $9.99   \n66  For Samsung S24 S23 S22 Ultra S21 A52 A53 Shoc...    US $5.55   \n\n                                                Image          Seller Name  \\\n0   https://i.ebayimg.com/images/g/ZjsAAOSwBxRlaEv...          upupday2015   \n1   https://i.ebayimg.com/images/g/kjcAAOSw4GhlKat...          MobileXport   \n2   https://i.ebayimg.com/images/g/NpQAAOSw40Vkf4I...        MobileWorldNY   \n3   https://i.ebayimg.com/images/g/DKoAAOSw~BNjkN4...          MobileXport   \n4   https://i.ebayimg.com/images/g/7-UAAOSwDPplrP-...  Trends Tech Limited   \n..                                                ...                  ...   \n62  https://i.ebayimg.com/images/g/rA4AAOSwkkRkYzf...           maciashe-1   \n63  https://i.ebayimg.com/images/g/HVMAAOSwPF5jPD3...        sandsdirectuk   \n64  https://i.ebayimg.com/images/g/M3sAAOSwgRdiBAx...        Seven Capital   \n65  https://i.ebayimg.com/images/g/GLoAAOSw0lFiKQk...           QZW_VISION   \n66  https://i.ebayimg.com/images/g/460AAOSw7uRl4U8...           gostyle168   \n\n     Seller Rating                Condition  \n0   98.8% positive                      New  \n1   97.2% positive  Very Good - Refurbished  \n2   99.6% positive                      New  \n3   97.2% positive  Very Good - Refurbished  \n4   96.3% positive                      New  \n..             ...                      ...  \n62  99.5% positive                      New  \n63  97.7% positive                      New  \n64  99.3% positive                      New  \n65  98.9% positive                      New  \n66  96.4% positive                      New  \n\n[67 rows x 6 columns]",
      "text/html": "<div>\n<style scoped>\n    .dataframe tbody tr th:only-of-type {\n        vertical-align: middle;\n    }\n\n    .dataframe tbody tr th {\n        vertical-align: top;\n    }\n\n    .dataframe thead th {\n        text-align: right;\n    }\n</style>\n<table border=\"1\" class=\"dataframe\">\n  <thead>\n    <tr style=\"text-align: right;\">\n      <th></th>\n      <th>Product</th>\n      <th>Price</th>\n      <th>Image</th>\n      <th>Seller Name</th>\n      <th>Seller Rating</th>\n      <th>Condition</th>\n    </tr>\n  </thead>\n  <tbody>\n    <tr>\n      <th>0</th>\n      <td>Phone Case For Samsung S23 S24 Ultra S22 S21 F...</td>\n      <td>GBP 2.89</td>\n      <td>https://i.ebayimg.com/images/g/ZjsAAOSwBxRlaEv...</td>\n      <td>upupday2015</td>\n      <td>98.8% positive</td>\n      <td>New</td>\n    </tr>\n    <tr>\n      <th>1</th>\n      <td>Samsung Galaxy S22+ Plus - 128-256GB - Fully U...</td>\n      <td>US $349.99</td>\n      <td>https://i.ebayimg.com/images/g/kjcAAOSw4GhlKat...</td>\n      <td>MobileXport</td>\n      <td>97.2% positive</td>\n      <td>Very Good - Refurbished</td>\n    </tr>\n    <tr>\n      <th>2</th>\n      <td>SAMSUNG Galaxy S22 5G S901U 128GB/256GB - US N...</td>\n      <td>US $410.00</td>\n      <td>https://i.ebayimg.com/images/g/NpQAAOSw40Vkf4I...</td>\n      <td>MobileWorldNY</td>\n      <td>99.6% positive</td>\n      <td>New</td>\n    </tr>\n    <tr>\n      <th>3</th>\n      <td>SAMSUNG GALAXY NOTE 20 S21 S22 ULTRA-UNLOCKED-...</td>\n      <td>US $164.99</td>\n      <td>https://i.ebayimg.com/images/g/DKoAAOSw~BNjkN4...</td>\n      <td>MobileXport</td>\n      <td>97.2% positive</td>\n      <td>Very Good - Refurbished</td>\n    </tr>\n    <tr>\n      <th>4</th>\n      <td>Shockproof Case For Samsung Galaxy S24 S23 S22...</td>\n      <td>GBP 3.99</td>\n      <td>https://i.ebayimg.com/images/g/7-UAAOSwDPplrP-...</td>\n      <td>Trends Tech Limited</td>\n      <td>96.3% positive</td>\n      <td>New</td>\n    </tr>\n    <tr>\n      <th>...</th>\n      <td>...</td>\n      <td>...</td>\n      <td>...</td>\n      <td>...</td>\n      <td>...</td>\n      <td>...</td>\n    </tr>\n    <tr>\n      <th>62</th>\n      <td>Rugged Shockproof Armor Case For Samsung Galax...</td>\n      <td>US $2.59</td>\n      <td>https://i.ebayimg.com/images/g/rA4AAOSwkkRkYzf...</td>\n      <td>maciashe-1</td>\n      <td>99.5% positive</td>\n      <td>New</td>\n    </tr>\n    <tr>\n      <th>63</th>\n      <td>360 Shockproof FULL Case For Samsung S23 S20 F...</td>\n      <td>GBP 3.99</td>\n      <td>https://i.ebayimg.com/images/g/HVMAAOSwPF5jPD3...</td>\n      <td>sandsdirectuk</td>\n      <td>97.7% positive</td>\n      <td>New</td>\n    </tr>\n    <tr>\n      <th>64</th>\n      <td>Shockproof Clear Case For Samsung Galaxy S24 S...</td>\n      <td>US $7.45</td>\n      <td>https://i.ebayimg.com/images/g/M3sAAOSwgRdiBAx...</td>\n      <td>Seven Capital</td>\n      <td>99.3% positive</td>\n      <td>New</td>\n    </tr>\n    <tr>\n      <th>65</th>\n      <td>For Samsung Galaxy S24 S23+ S22 Ultra Shockpro...</td>\n      <td>US $9.99</td>\n      <td>https://i.ebayimg.com/images/g/GLoAAOSw0lFiKQk...</td>\n      <td>QZW_VISION</td>\n      <td>98.9% positive</td>\n      <td>New</td>\n    </tr>\n    <tr>\n      <th>66</th>\n      <td>For Samsung S24 S23 S22 Ultra S21 A52 A53 Shoc...</td>\n      <td>US $5.55</td>\n      <td>https://i.ebayimg.com/images/g/460AAOSw7uRl4U8...</td>\n      <td>gostyle168</td>\n      <td>96.4% positive</td>\n      <td>New</td>\n    </tr>\n  </tbody>\n</table>\n<p>67 rows × 6 columns</p>\n</div>"
     },
     "execution_count": 23,
     "metadata": {},
     "output_type": "execute_result"
    }
   ],
   "source": [
    "df1 = pd.read_excel(r\"C:\\Users\\fagos\\PycharmProjects\\pythonProject\\DSF_Final\\Product_Analyzer_App\\output\\FILE.xlsx\")\n",
    "df1"
   ],
   "metadata": {
    "collapsed": true,
    "ExecuteTime": {
     "end_time": "2024-03-06T22:54:39.652787700Z",
     "start_time": "2024-03-06T22:54:39.582661300Z"
    }
   },
   "id": "initial_id"
  },
  {
   "cell_type": "code",
   "execution_count": 37,
   "outputs": [
    {
     "data": {
      "text/plain": "15    689.99\n13    549.48\n9     519.99\n5     519.99\n12    499.48\n       ...  \n39      1.25\n47      0.99\n34      0.99\n27      0.99\n19      0.99\nName: Price, Length: 67, dtype: float64"
     },
     "execution_count": 37,
     "metadata": {},
     "output_type": "execute_result"
    }
   ],
   "source": [
    "pattern = r'([\\d\\.,]+)'\n",
    "df1[\"Price\"] = df1[\"Price\"].astype(str)\n",
    "df1[\"Price\"] = df1[\"Price\"].str.extract(pattern)\n",
    "df1[\"Price\"] = df1[\"Price\"].astype(float)\n",
    "df1.sort_values(by = \"Price\", ascending = False, inplace=True)\n",
    "df1[\"Price\"]"
   ],
   "metadata": {
    "collapsed": false,
    "ExecuteTime": {
     "end_time": "2024-03-06T23:02:23.737532100Z",
     "start_time": "2024-03-06T23:02:23.698015800Z"
    }
   },
   "id": "6421495f016a365a"
  },
  {
   "cell_type": "code",
   "execution_count": 39,
   "outputs": [
    {
     "data": {
      "text/plain": "                                              Product   Price  \\\n15  Samsung Galaxy S22 Ultra 5G Smartphone 128GB 1...  689.99   \n\n                                                Image Seller Name  \\\n15  https://i.ebayimg.com/images/g/xfMAAOSwvM9l14L...    backzert   \n\n     Seller Rating Condition  \n15  99.6% positive       New  ",
      "text/html": "<div>\n<style scoped>\n    .dataframe tbody tr th:only-of-type {\n        vertical-align: middle;\n    }\n\n    .dataframe tbody tr th {\n        vertical-align: top;\n    }\n\n    .dataframe thead th {\n        text-align: right;\n    }\n</style>\n<table border=\"1\" class=\"dataframe\">\n  <thead>\n    <tr style=\"text-align: right;\">\n      <th></th>\n      <th>Product</th>\n      <th>Price</th>\n      <th>Image</th>\n      <th>Seller Name</th>\n      <th>Seller Rating</th>\n      <th>Condition</th>\n    </tr>\n  </thead>\n  <tbody>\n    <tr>\n      <th>15</th>\n      <td>Samsung Galaxy S22 Ultra 5G Smartphone 128GB 1...</td>\n      <td>689.99</td>\n      <td>https://i.ebayimg.com/images/g/xfMAAOSwvM9l14L...</td>\n      <td>backzert</td>\n      <td>99.6% positive</td>\n      <td>New</td>\n    </tr>\n  </tbody>\n</table>\n</div>"
     },
     "execution_count": 39,
     "metadata": {},
     "output_type": "execute_result"
    }
   ],
   "source": [
    "product_show = df1[:1]\n",
    "product_show"
   ],
   "metadata": {
    "collapsed": false,
    "ExecuteTime": {
     "end_time": "2024-03-06T23:02:50.685268600Z",
     "start_time": "2024-03-06T23:02:50.643750400Z"
    }
   },
   "id": "7e86e6b41f66ceec"
  },
  {
   "cell_type": "code",
   "execution_count": 45,
   "outputs": [
    {
     "data": {
      "text/plain": "349.99"
     },
     "execution_count": 45,
     "metadata": {},
     "output_type": "execute_result"
    }
   ],
   "source": [
    "df1.loc[1, 'Price']"
   ],
   "metadata": {
    "collapsed": false,
    "ExecuteTime": {
     "end_time": "2024-03-06T23:09:13.544073300Z",
     "start_time": "2024-03-06T23:09:13.462552500Z"
    }
   },
   "id": "dbd1a7a3b867381c"
  },
  {
   "cell_type": "code",
   "execution_count": 21,
   "outputs": [
    {
     "data": {
      "text/plain": "                                              Product  Price  \\\n0   Phone Case For Samsung S23 S24 Ultra S22 S21 F...   2.89   \n4   Shockproof Case For Samsung Galaxy S24 S23 S22...   3.99   \n6   3x for Samsung Galaxy protective glass screen ...   3.99   \n16  Armor Hard Phone Case For Samsung S23 , S22 Pl...   3.99   \n17  Case For Samsung A53 S24 A52 S22 S23 Ultra S21...   2.19   \n18  Heavy Duty Shockproof Case For Samsung Galaxy ...   8.98   \n19  For Samsung Galaxy S21 S22 S23 S24 Plus Ultra ...   0.99   \n20  Case for Samsung S24 S22 S23 Ultra Plus S20 S2...   5.98   \n21  OtterBox Defender Series Pro Case for Samsung ...  21.95   \n22  Phone Case For Samsung Galaxy S24 Ultra S23 FE...   3.99   \n23  For Samsung Galaxy s22 | s22+ | 22 ultra Case ...  11.99   \n24  For Samsung Galaxy S22 / S22+ Plus S22 Ultra 5...  14.98   \n25  Personalised Silicone Phone Case Cover For Sam...   2.75   \n26  For Samsung Galaxy S24 S23 Ultra S22 Plus Clea...   8.99   \n27  Shockproof Case For Samsung Galaxy S24 S23 S22...   0.99   \n28  For Samsung Galaxy S24 Ultra 23 22 21 + Shockp...   9.49   \n29  Soft TPU Cover With Wallet Card Holder For Sam...   2.49   \n30  Magnetic Case Camera Cover For Samsung Galaxy ...   6.99   \n31  Gorgeous Personalised Name Case Cover For Sams...   6.28   \n32  For Samsung Galaxy S24 S23 Ultra S22 S21 S20 +...   4.99   \n33  For Samsung Galaxy S24 Ultra S23 S22 S21 FE Le...   3.66   \n34  For Samsung Galaxy S24 S23 S22 S21 S20 Plus Ul...   0.99   \n35  Magnetic Leather Wallet Case For Samsung Galax...   5.25   \n36  For Samsung Galaxy S24 S23 S22 21 Ultra Shockp...   9.49   \n37  For Samsung Galaxy S22 Ultra S22 Plus Case Wat...  14.99   \n38  Phone Case For Samsung S24 S23 Ultra S22 S21 S...   3.99   \n39  For Samsung Galaxy A14 A13 A24 A34 A54 5G Slim...   1.25   \n40  Armor Holder Shockproof Case For Samsung S22 U...   6.99   \n41  For Samsung Galaxy S24 S23 S22 Plus Ultra Clea...   8.07   \n42  For Samsung Galaxy S24 S23 S22 Plus Ultra Shoc...   7.74   \n43  METAL ALUMINIUM CASE COVER FOR SAMSUNG GALAXY ...  14.96   \n44  For Samsung Galaxy S24 Ultra S23 S22 Mag Safe ...   3.99   \n45  Liquid Glitter Luxury Defender Case For Samsun...   4.34   \n46  For Samsung Galaxy S24 S23 S22 Plus Ultra Shoc...  10.48   \n47  Case For Samsung Galaxy S24 S23 Ultra S22 Plus...   0.99   \n48  Armor Hard Phone Case For Samsung S23 S22 S21 ...   4.45   \n49  CLEAR FULL 360 Case Samsung S24 S23 S22 S21 FE...   1.95   \n50  3x for Samsung Galaxy protective glass 3D full...   4.99   \n51  Personalised Marble Case Gel Phone Cover For S...   6.29   \n52  Shockproof Case For Samsung Galaxy S24 S23+ Pl...   9.99   \n53  2x for Samsung Galaxy privacy protective glass...   7.49   \n54  Waterproof Case For Samsung Galaxy S22, S22+, ...  14.98   \n55  Metal Case For Samsung S22 S21 S20 S23 Plus Ul...   7.99   \n56  For Samsung Galaxy S24 S23 S22 S21 Ultra Magne...   7.99   \n57  Shockproof Slim Leather Case For Samsung Galax...   9.49   \n58  For Samsung S24 S23 S22 S21 Ultra + LUPHIE Sho...  15.49   \n59  For Samsung S24 Ultra Plus S23 S22 S21 S20 FE ...   2.84   \n60  For Samsung Galaxy S24 S23 S21 FE S22 Plus Ult...   8.99   \n61  Gorilla Tempered Glass For Samsung Galaxy S23 ...   3.99   \n62  Rugged Shockproof Armor Case For Samsung Galax...   2.59   \n63  360 Shockproof FULL Case For Samsung S23 S20 F...   3.99   \n64  Shockproof Clear Case For Samsung Galaxy S24 S...   7.45   \n65  For Samsung Galaxy S24 S23+ S22 Ultra Shockpro...   9.99   \n66  For Samsung S24 S23 S22 Ultra S21 A52 A53 Shoc...   5.55   \n\n                                                Image  \\\n0   https://i.ebayimg.com/images/g/ZjsAAOSwBxRlaEv...   \n4   https://i.ebayimg.com/images/g/7-UAAOSwDPplrP-...   \n6   https://i.ebayimg.com/images/g/RpkAAOSwOjFhTxL...   \n16  https://i.ebayimg.com/images/g/5ucAAOSwN4FkEQt...   \n17  https://i.ebayimg.com/images/g/LUoAAOSwhaNgYn2...   \n18  https://i.ebayimg.com/images/g/ECsAAOSwvmNiBqk...   \n19  https://i.ebayimg.com/images/g/ZPEAAOSwiv1ly0P...   \n20  https://i.ebayimg.com/images/g/HHEAAOSwXz1lnPQ...   \n21  https://i.ebayimg.com/images/g/s40AAOSwx1hjsfT...   \n22  https://i.ebayimg.com/images/g/9uEAAOSwFV9loP9...   \n23  https://i.ebayimg.com/images/g/D9wAAOSweMZkeAC...   \n24  https://i.ebayimg.com/images/g/aesAAOSwzZxi30o...   \n25  https://i.ebayimg.com/images/g/TP4AAOSwZZZj1iR...   \n26  https://i.ebayimg.com/images/g/RPQAAOSwnE1lnbN...   \n27  https://i.ebayimg.com/images/g/SoQAAOSwQJZkfdi...   \n28  https://i.ebayimg.com/images/g/D5sAAOSw20llpuj...   \n29  https://i.ebayimg.com/images/g/RgIAAOSwYIxlm8W...   \n30  https://i.ebayimg.com/images/g/SEkAAOSwp1tkuyI...   \n31  https://i.ebayimg.com/images/g/hhIAAOSwgY9jyIA...   \n32  https://i.ebayimg.com/images/g/Ve4AAOSwWallaE2...   \n33  https://i.ebayimg.com/images/g/sa0AAOSw2~Jls0-...   \n34  https://i.ebayimg.com/images/g/gpoAAOSwSDtiLMF...   \n35  https://i.ebayimg.com/images/g/mc8AAOSwMGhkZHD...   \n36  https://i.ebayimg.com/images/g/hBsAAOSwYl9lqDB...   \n37  https://i.ebayimg.com/images/g/yHgAAOSwEv9iU~X...   \n38  https://i.ebayimg.com/images/g/JE0AAOSwkvNlp5m...   \n39  https://i.ebayimg.com/images/g/nPEAAOSwN~NjxW9...   \n40  https://i.ebayimg.com/images/g/h28AAOSwKClie~-...   \n41  https://i.ebayimg.com/images/g/MYUAAOSwrpZlsp5...   \n42  https://i.ebayimg.com/images/g/mzMAAOSwIsxluoe...   \n43  https://i.ebayimg.com/images/g/wzgAAOSwhsZlrzH...   \n44  https://i.ebayimg.com/images/g/00sAAOSwExNkG9S...   \n45  https://i.ebayimg.com/images/g/AhQAAOSwzpxkAE4...   \n46  https://i.ebayimg.com/images/g/9TcAAOSwbMtltAM...   \n47  https://i.ebayimg.com/images/g/cysAAOSwbftj6zM...   \n48  https://i.ebayimg.com/images/g/TI0AAOSwykVlWfj...   \n49  https://i.ebayimg.com/images/g/y0wAAOSwl4Vji8o...   \n50  https://i.ebayimg.com/images/g/PewAAOSwEQBjOwH...   \n51  https://i.ebayimg.com/images/g/URYAAOSwzaVkwcR...   \n52  https://i.ebayimg.com/images/g/8owAAOSws9FiKl9...   \n53  https://i.ebayimg.com/images/g/DPEAAOSwc2Nlvl4...   \n54  https://i.ebayimg.com/images/g/EOsAAOSwwpdi30L...   \n55  https://i.ebayimg.com/images/g/R4cAAOSw7VRlQk0...   \n56  https://i.ebayimg.com/images/g/j4YAAOSw10Nh2A4...   \n57  https://i.ebayimg.com/images/g/G50AAOSwWcJj5S1...   \n58  https://i.ebayimg.com/images/g/4HEAAOSwt~Fj9d~...   \n59  https://i.ebayimg.com/images/g/ru4AAOSwH01lw3j...   \n60  https://i.ebayimg.com/images/g/yXIAAOSw3KRiQKv...   \n61  https://i.ebayimg.com/images/g/X5cAAOSwGQVk4Lp...   \n62  https://i.ebayimg.com/images/g/rA4AAOSwkkRkYzf...   \n63  https://i.ebayimg.com/images/g/HVMAAOSwPF5jPD3...   \n64  https://i.ebayimg.com/images/g/M3sAAOSwgRdiBAx...   \n65  https://i.ebayimg.com/images/g/GLoAAOSw0lFiKQk...   \n66  https://i.ebayimg.com/images/g/460AAOSw7uRl4U8...   \n\n                  Seller Name   Seller Rating Condition  \n0                 upupday2015  98.8% positive       New  \n4         Trends Tech Limited  96.3% positive       New  \n6                     ASQUINO  98.3% positive       New  \n16                 sky-techno  98.6% positive       New  \n17                    smilede  98.7% positive       New  \n18                    Geekion  99.4% positive       New  \n19                 jimmywilks  99.4% positive       New  \n20                 nicelifedd  97.7% positive       New  \n21              BlueBlueberry    99% positive  Open box  \n22                upupday2015  98.8% positive       New  \n23                  LAD-Dream  95.6% positive       New  \n24          Kevin Accessories  99.3% positive       New  \n25            i-love-sunshine  99.8% positive       New  \n26                 QZW_VISION  98.9% positive       New  \n27           Accessory Hub UK  99.3% positive       New  \n28                 QZW_VISION  98.9% positive       New  \n29                    pinp259  97.7% positive       New  \n30              AnnaBay_1shop  98.7% positive       New  \n31              Case4yourfone  98.5% positive       New  \n32                 STARSHOP18  98.8% positive       New  \n33                smile.insuk    98% positive       New  \n34                 jimmywilks  99.4% positive       New  \n35                  rodr_5979  98.7% positive       New  \n36              Seven Capital  99.3% positive       New  \n37                 chenshuwen  98.4% positive       New  \n38                smile.insuk    98% positive       New  \n39  Phones_Accessories_Outlet  98.5% positive       New  \n40            Casecovermoblie  96.1% positive       New  \n41         XG-Tech Wholesaler  98.7% positive       New  \n42         XG-Tech Wholesaler  98.7% positive       New  \n43            bestoutlets2023  99.1% positive       New  \n44                   clerkb85  99.4% positive       New  \n45                 colynjoyce  99.1% positive       New  \n46         XG-Tech Wholesaler  98.7% positive       New  \n47            PhoneKingdom786  98.9% positive       New  \n48               TheFoneStore  97.9% positive       New  \n49        Buzz Accessories UK  99.4% positive       New  \n50                    ASQUINO  98.3% positive       New  \n51             case-to-custom  99.6% positive       New  \n52              Seven Capital  99.3% positive       New  \n53                    ASQUINO  98.3% positive       New  \n54          Kevin Accessories  99.3% positive       New  \n55                  MOBBY ACC  99.8% positive       New  \n56                    TRSSHOP  95.6% positive       New  \n57              Seven Capital  99.3% positive       New  \n58              lucky24love03  96.6% positive       New  \n59                   pasi-847  99.3% positive       New  \n60    monster-electronics-626  99.3% positive       New  \n61        Trends Tech Limited  96.3% positive       New  \n62                 maciashe-1  99.5% positive       New  \n63              sandsdirectuk  97.7% positive       New  \n64              Seven Capital  99.3% positive       New  \n65                 QZW_VISION  98.9% positive       New  \n66                 gostyle168  96.4% positive       New  ",
      "text/html": "<div>\n<style scoped>\n    .dataframe tbody tr th:only-of-type {\n        vertical-align: middle;\n    }\n\n    .dataframe tbody tr th {\n        vertical-align: top;\n    }\n\n    .dataframe thead th {\n        text-align: right;\n    }\n</style>\n<table border=\"1\" class=\"dataframe\">\n  <thead>\n    <tr style=\"text-align: right;\">\n      <th></th>\n      <th>Product</th>\n      <th>Price</th>\n      <th>Image</th>\n      <th>Seller Name</th>\n      <th>Seller Rating</th>\n      <th>Condition</th>\n    </tr>\n  </thead>\n  <tbody>\n    <tr>\n      <th>0</th>\n      <td>Phone Case For Samsung S23 S24 Ultra S22 S21 F...</td>\n      <td>2.89</td>\n      <td>https://i.ebayimg.com/images/g/ZjsAAOSwBxRlaEv...</td>\n      <td>upupday2015</td>\n      <td>98.8% positive</td>\n      <td>New</td>\n    </tr>\n    <tr>\n      <th>4</th>\n      <td>Shockproof Case For Samsung Galaxy S24 S23 S22...</td>\n      <td>3.99</td>\n      <td>https://i.ebayimg.com/images/g/7-UAAOSwDPplrP-...</td>\n      <td>Trends Tech Limited</td>\n      <td>96.3% positive</td>\n      <td>New</td>\n    </tr>\n    <tr>\n      <th>6</th>\n      <td>3x for Samsung Galaxy protective glass screen ...</td>\n      <td>3.99</td>\n      <td>https://i.ebayimg.com/images/g/RpkAAOSwOjFhTxL...</td>\n      <td>ASQUINO</td>\n      <td>98.3% positive</td>\n      <td>New</td>\n    </tr>\n    <tr>\n      <th>16</th>\n      <td>Armor Hard Phone Case For Samsung S23 , S22 Pl...</td>\n      <td>3.99</td>\n      <td>https://i.ebayimg.com/images/g/5ucAAOSwN4FkEQt...</td>\n      <td>sky-techno</td>\n      <td>98.6% positive</td>\n      <td>New</td>\n    </tr>\n    <tr>\n      <th>17</th>\n      <td>Case For Samsung A53 S24 A52 S22 S23 Ultra S21...</td>\n      <td>2.19</td>\n      <td>https://i.ebayimg.com/images/g/LUoAAOSwhaNgYn2...</td>\n      <td>smilede</td>\n      <td>98.7% positive</td>\n      <td>New</td>\n    </tr>\n    <tr>\n      <th>18</th>\n      <td>Heavy Duty Shockproof Case For Samsung Galaxy ...</td>\n      <td>8.98</td>\n      <td>https://i.ebayimg.com/images/g/ECsAAOSwvmNiBqk...</td>\n      <td>Geekion</td>\n      <td>99.4% positive</td>\n      <td>New</td>\n    </tr>\n    <tr>\n      <th>19</th>\n      <td>For Samsung Galaxy S21 S22 S23 S24 Plus Ultra ...</td>\n      <td>0.99</td>\n      <td>https://i.ebayimg.com/images/g/ZPEAAOSwiv1ly0P...</td>\n      <td>jimmywilks</td>\n      <td>99.4% positive</td>\n      <td>New</td>\n    </tr>\n    <tr>\n      <th>20</th>\n      <td>Case for Samsung S24 S22 S23 Ultra Plus S20 S2...</td>\n      <td>5.98</td>\n      <td>https://i.ebayimg.com/images/g/HHEAAOSwXz1lnPQ...</td>\n      <td>nicelifedd</td>\n      <td>97.7% positive</td>\n      <td>New</td>\n    </tr>\n    <tr>\n      <th>21</th>\n      <td>OtterBox Defender Series Pro Case for Samsung ...</td>\n      <td>21.95</td>\n      <td>https://i.ebayimg.com/images/g/s40AAOSwx1hjsfT...</td>\n      <td>BlueBlueberry</td>\n      <td>99% positive</td>\n      <td>Open box</td>\n    </tr>\n    <tr>\n      <th>22</th>\n      <td>Phone Case For Samsung Galaxy S24 Ultra S23 FE...</td>\n      <td>3.99</td>\n      <td>https://i.ebayimg.com/images/g/9uEAAOSwFV9loP9...</td>\n      <td>upupday2015</td>\n      <td>98.8% positive</td>\n      <td>New</td>\n    </tr>\n    <tr>\n      <th>23</th>\n      <td>For Samsung Galaxy s22 | s22+ | 22 ultra Case ...</td>\n      <td>11.99</td>\n      <td>https://i.ebayimg.com/images/g/D9wAAOSweMZkeAC...</td>\n      <td>LAD-Dream</td>\n      <td>95.6% positive</td>\n      <td>New</td>\n    </tr>\n    <tr>\n      <th>24</th>\n      <td>For Samsung Galaxy S22 / S22+ Plus S22 Ultra 5...</td>\n      <td>14.98</td>\n      <td>https://i.ebayimg.com/images/g/aesAAOSwzZxi30o...</td>\n      <td>Kevin Accessories</td>\n      <td>99.3% positive</td>\n      <td>New</td>\n    </tr>\n    <tr>\n      <th>25</th>\n      <td>Personalised Silicone Phone Case Cover For Sam...</td>\n      <td>2.75</td>\n      <td>https://i.ebayimg.com/images/g/TP4AAOSwZZZj1iR...</td>\n      <td>i-love-sunshine</td>\n      <td>99.8% positive</td>\n      <td>New</td>\n    </tr>\n    <tr>\n      <th>26</th>\n      <td>For Samsung Galaxy S24 S23 Ultra S22 Plus Clea...</td>\n      <td>8.99</td>\n      <td>https://i.ebayimg.com/images/g/RPQAAOSwnE1lnbN...</td>\n      <td>QZW_VISION</td>\n      <td>98.9% positive</td>\n      <td>New</td>\n    </tr>\n    <tr>\n      <th>27</th>\n      <td>Shockproof Case For Samsung Galaxy S24 S23 S22...</td>\n      <td>0.99</td>\n      <td>https://i.ebayimg.com/images/g/SoQAAOSwQJZkfdi...</td>\n      <td>Accessory Hub UK</td>\n      <td>99.3% positive</td>\n      <td>New</td>\n    </tr>\n    <tr>\n      <th>28</th>\n      <td>For Samsung Galaxy S24 Ultra 23 22 21 + Shockp...</td>\n      <td>9.49</td>\n      <td>https://i.ebayimg.com/images/g/D5sAAOSw20llpuj...</td>\n      <td>QZW_VISION</td>\n      <td>98.9% positive</td>\n      <td>New</td>\n    </tr>\n    <tr>\n      <th>29</th>\n      <td>Soft TPU Cover With Wallet Card Holder For Sam...</td>\n      <td>2.49</td>\n      <td>https://i.ebayimg.com/images/g/RgIAAOSwYIxlm8W...</td>\n      <td>pinp259</td>\n      <td>97.7% positive</td>\n      <td>New</td>\n    </tr>\n    <tr>\n      <th>30</th>\n      <td>Magnetic Case Camera Cover For Samsung Galaxy ...</td>\n      <td>6.99</td>\n      <td>https://i.ebayimg.com/images/g/SEkAAOSwp1tkuyI...</td>\n      <td>AnnaBay_1shop</td>\n      <td>98.7% positive</td>\n      <td>New</td>\n    </tr>\n    <tr>\n      <th>31</th>\n      <td>Gorgeous Personalised Name Case Cover For Sams...</td>\n      <td>6.28</td>\n      <td>https://i.ebayimg.com/images/g/hhIAAOSwgY9jyIA...</td>\n      <td>Case4yourfone</td>\n      <td>98.5% positive</td>\n      <td>New</td>\n    </tr>\n    <tr>\n      <th>32</th>\n      <td>For Samsung Galaxy S24 S23 Ultra S22 S21 S20 +...</td>\n      <td>4.99</td>\n      <td>https://i.ebayimg.com/images/g/Ve4AAOSwWallaE2...</td>\n      <td>STARSHOP18</td>\n      <td>98.8% positive</td>\n      <td>New</td>\n    </tr>\n    <tr>\n      <th>33</th>\n      <td>For Samsung Galaxy S24 Ultra S23 S22 S21 FE Le...</td>\n      <td>3.66</td>\n      <td>https://i.ebayimg.com/images/g/sa0AAOSw2~Jls0-...</td>\n      <td>smile.insuk</td>\n      <td>98% positive</td>\n      <td>New</td>\n    </tr>\n    <tr>\n      <th>34</th>\n      <td>For Samsung Galaxy S24 S23 S22 S21 S20 Plus Ul...</td>\n      <td>0.99</td>\n      <td>https://i.ebayimg.com/images/g/gpoAAOSwSDtiLMF...</td>\n      <td>jimmywilks</td>\n      <td>99.4% positive</td>\n      <td>New</td>\n    </tr>\n    <tr>\n      <th>35</th>\n      <td>Magnetic Leather Wallet Case For Samsung Galax...</td>\n      <td>5.25</td>\n      <td>https://i.ebayimg.com/images/g/mc8AAOSwMGhkZHD...</td>\n      <td>rodr_5979</td>\n      <td>98.7% positive</td>\n      <td>New</td>\n    </tr>\n    <tr>\n      <th>36</th>\n      <td>For Samsung Galaxy S24 S23 S22 21 Ultra Shockp...</td>\n      <td>9.49</td>\n      <td>https://i.ebayimg.com/images/g/hBsAAOSwYl9lqDB...</td>\n      <td>Seven Capital</td>\n      <td>99.3% positive</td>\n      <td>New</td>\n    </tr>\n    <tr>\n      <th>37</th>\n      <td>For Samsung Galaxy S22 Ultra S22 Plus Case Wat...</td>\n      <td>14.99</td>\n      <td>https://i.ebayimg.com/images/g/yHgAAOSwEv9iU~X...</td>\n      <td>chenshuwen</td>\n      <td>98.4% positive</td>\n      <td>New</td>\n    </tr>\n    <tr>\n      <th>38</th>\n      <td>Phone Case For Samsung S24 S23 Ultra S22 S21 S...</td>\n      <td>3.99</td>\n      <td>https://i.ebayimg.com/images/g/JE0AAOSwkvNlp5m...</td>\n      <td>smile.insuk</td>\n      <td>98% positive</td>\n      <td>New</td>\n    </tr>\n    <tr>\n      <th>39</th>\n      <td>For Samsung Galaxy A14 A13 A24 A34 A54 5G Slim...</td>\n      <td>1.25</td>\n      <td>https://i.ebayimg.com/images/g/nPEAAOSwN~NjxW9...</td>\n      <td>Phones_Accessories_Outlet</td>\n      <td>98.5% positive</td>\n      <td>New</td>\n    </tr>\n    <tr>\n      <th>40</th>\n      <td>Armor Holder Shockproof Case For Samsung S22 U...</td>\n      <td>6.99</td>\n      <td>https://i.ebayimg.com/images/g/h28AAOSwKClie~-...</td>\n      <td>Casecovermoblie</td>\n      <td>96.1% positive</td>\n      <td>New</td>\n    </tr>\n    <tr>\n      <th>41</th>\n      <td>For Samsung Galaxy S24 S23 S22 Plus Ultra Clea...</td>\n      <td>8.07</td>\n      <td>https://i.ebayimg.com/images/g/MYUAAOSwrpZlsp5...</td>\n      <td>XG-Tech Wholesaler</td>\n      <td>98.7% positive</td>\n      <td>New</td>\n    </tr>\n    <tr>\n      <th>42</th>\n      <td>For Samsung Galaxy S24 S23 S22 Plus Ultra Shoc...</td>\n      <td>7.74</td>\n      <td>https://i.ebayimg.com/images/g/mzMAAOSwIsxluoe...</td>\n      <td>XG-Tech Wholesaler</td>\n      <td>98.7% positive</td>\n      <td>New</td>\n    </tr>\n    <tr>\n      <th>43</th>\n      <td>METAL ALUMINIUM CASE COVER FOR SAMSUNG GALAXY ...</td>\n      <td>14.96</td>\n      <td>https://i.ebayimg.com/images/g/wzgAAOSwhsZlrzH...</td>\n      <td>bestoutlets2023</td>\n      <td>99.1% positive</td>\n      <td>New</td>\n    </tr>\n    <tr>\n      <th>44</th>\n      <td>For Samsung Galaxy S24 Ultra S23 S22 Mag Safe ...</td>\n      <td>3.99</td>\n      <td>https://i.ebayimg.com/images/g/00sAAOSwExNkG9S...</td>\n      <td>clerkb85</td>\n      <td>99.4% positive</td>\n      <td>New</td>\n    </tr>\n    <tr>\n      <th>45</th>\n      <td>Liquid Glitter Luxury Defender Case For Samsun...</td>\n      <td>4.34</td>\n      <td>https://i.ebayimg.com/images/g/AhQAAOSwzpxkAE4...</td>\n      <td>colynjoyce</td>\n      <td>99.1% positive</td>\n      <td>New</td>\n    </tr>\n    <tr>\n      <th>46</th>\n      <td>For Samsung Galaxy S24 S23 S22 Plus Ultra Shoc...</td>\n      <td>10.48</td>\n      <td>https://i.ebayimg.com/images/g/9TcAAOSwbMtltAM...</td>\n      <td>XG-Tech Wholesaler</td>\n      <td>98.7% positive</td>\n      <td>New</td>\n    </tr>\n    <tr>\n      <th>47</th>\n      <td>Case For Samsung Galaxy S24 S23 Ultra S22 Plus...</td>\n      <td>0.99</td>\n      <td>https://i.ebayimg.com/images/g/cysAAOSwbftj6zM...</td>\n      <td>PhoneKingdom786</td>\n      <td>98.9% positive</td>\n      <td>New</td>\n    </tr>\n    <tr>\n      <th>48</th>\n      <td>Armor Hard Phone Case For Samsung S23 S22 S21 ...</td>\n      <td>4.45</td>\n      <td>https://i.ebayimg.com/images/g/TI0AAOSwykVlWfj...</td>\n      <td>TheFoneStore</td>\n      <td>97.9% positive</td>\n      <td>New</td>\n    </tr>\n    <tr>\n      <th>49</th>\n      <td>CLEAR FULL 360 Case Samsung S24 S23 S22 S21 FE...</td>\n      <td>1.95</td>\n      <td>https://i.ebayimg.com/images/g/y0wAAOSwl4Vji8o...</td>\n      <td>Buzz Accessories UK</td>\n      <td>99.4% positive</td>\n      <td>New</td>\n    </tr>\n    <tr>\n      <th>50</th>\n      <td>3x for Samsung Galaxy protective glass 3D full...</td>\n      <td>4.99</td>\n      <td>https://i.ebayimg.com/images/g/PewAAOSwEQBjOwH...</td>\n      <td>ASQUINO</td>\n      <td>98.3% positive</td>\n      <td>New</td>\n    </tr>\n    <tr>\n      <th>51</th>\n      <td>Personalised Marble Case Gel Phone Cover For S...</td>\n      <td>6.29</td>\n      <td>https://i.ebayimg.com/images/g/URYAAOSwzaVkwcR...</td>\n      <td>case-to-custom</td>\n      <td>99.6% positive</td>\n      <td>New</td>\n    </tr>\n    <tr>\n      <th>52</th>\n      <td>Shockproof Case For Samsung Galaxy S24 S23+ Pl...</td>\n      <td>9.99</td>\n      <td>https://i.ebayimg.com/images/g/8owAAOSws9FiKl9...</td>\n      <td>Seven Capital</td>\n      <td>99.3% positive</td>\n      <td>New</td>\n    </tr>\n    <tr>\n      <th>53</th>\n      <td>2x for Samsung Galaxy privacy protective glass...</td>\n      <td>7.49</td>\n      <td>https://i.ebayimg.com/images/g/DPEAAOSwc2Nlvl4...</td>\n      <td>ASQUINO</td>\n      <td>98.3% positive</td>\n      <td>New</td>\n    </tr>\n    <tr>\n      <th>54</th>\n      <td>Waterproof Case For Samsung Galaxy S22, S22+, ...</td>\n      <td>14.98</td>\n      <td>https://i.ebayimg.com/images/g/EOsAAOSwwpdi30L...</td>\n      <td>Kevin Accessories</td>\n      <td>99.3% positive</td>\n      <td>New</td>\n    </tr>\n    <tr>\n      <th>55</th>\n      <td>Metal Case For Samsung S22 S21 S20 S23 Plus Ul...</td>\n      <td>7.99</td>\n      <td>https://i.ebayimg.com/images/g/R4cAAOSw7VRlQk0...</td>\n      <td>MOBBY ACC</td>\n      <td>99.8% positive</td>\n      <td>New</td>\n    </tr>\n    <tr>\n      <th>56</th>\n      <td>For Samsung Galaxy S24 S23 S22 S21 Ultra Magne...</td>\n      <td>7.99</td>\n      <td>https://i.ebayimg.com/images/g/j4YAAOSw10Nh2A4...</td>\n      <td>TRSSHOP</td>\n      <td>95.6% positive</td>\n      <td>New</td>\n    </tr>\n    <tr>\n      <th>57</th>\n      <td>Shockproof Slim Leather Case For Samsung Galax...</td>\n      <td>9.49</td>\n      <td>https://i.ebayimg.com/images/g/G50AAOSwWcJj5S1...</td>\n      <td>Seven Capital</td>\n      <td>99.3% positive</td>\n      <td>New</td>\n    </tr>\n    <tr>\n      <th>58</th>\n      <td>For Samsung S24 S23 S22 S21 Ultra + LUPHIE Sho...</td>\n      <td>15.49</td>\n      <td>https://i.ebayimg.com/images/g/4HEAAOSwt~Fj9d~...</td>\n      <td>lucky24love03</td>\n      <td>96.6% positive</td>\n      <td>New</td>\n    </tr>\n    <tr>\n      <th>59</th>\n      <td>For Samsung S24 Ultra Plus S23 S22 S21 S20 FE ...</td>\n      <td>2.84</td>\n      <td>https://i.ebayimg.com/images/g/ru4AAOSwH01lw3j...</td>\n      <td>pasi-847</td>\n      <td>99.3% positive</td>\n      <td>New</td>\n    </tr>\n    <tr>\n      <th>60</th>\n      <td>For Samsung Galaxy S24 S23 S21 FE S22 Plus Ult...</td>\n      <td>8.99</td>\n      <td>https://i.ebayimg.com/images/g/yXIAAOSw3KRiQKv...</td>\n      <td>monster-electronics-626</td>\n      <td>99.3% positive</td>\n      <td>New</td>\n    </tr>\n    <tr>\n      <th>61</th>\n      <td>Gorilla Tempered Glass For Samsung Galaxy S23 ...</td>\n      <td>3.99</td>\n      <td>https://i.ebayimg.com/images/g/X5cAAOSwGQVk4Lp...</td>\n      <td>Trends Tech Limited</td>\n      <td>96.3% positive</td>\n      <td>New</td>\n    </tr>\n    <tr>\n      <th>62</th>\n      <td>Rugged Shockproof Armor Case For Samsung Galax...</td>\n      <td>2.59</td>\n      <td>https://i.ebayimg.com/images/g/rA4AAOSwkkRkYzf...</td>\n      <td>maciashe-1</td>\n      <td>99.5% positive</td>\n      <td>New</td>\n    </tr>\n    <tr>\n      <th>63</th>\n      <td>360 Shockproof FULL Case For Samsung S23 S20 F...</td>\n      <td>3.99</td>\n      <td>https://i.ebayimg.com/images/g/HVMAAOSwPF5jPD3...</td>\n      <td>sandsdirectuk</td>\n      <td>97.7% positive</td>\n      <td>New</td>\n    </tr>\n    <tr>\n      <th>64</th>\n      <td>Shockproof Clear Case For Samsung Galaxy S24 S...</td>\n      <td>7.45</td>\n      <td>https://i.ebayimg.com/images/g/M3sAAOSwgRdiBAx...</td>\n      <td>Seven Capital</td>\n      <td>99.3% positive</td>\n      <td>New</td>\n    </tr>\n    <tr>\n      <th>65</th>\n      <td>For Samsung Galaxy S24 S23+ S22 Ultra Shockpro...</td>\n      <td>9.99</td>\n      <td>https://i.ebayimg.com/images/g/GLoAAOSw0lFiKQk...</td>\n      <td>QZW_VISION</td>\n      <td>98.9% positive</td>\n      <td>New</td>\n    </tr>\n    <tr>\n      <th>66</th>\n      <td>For Samsung S24 S23 S22 Ultra S21 A52 A53 Shoc...</td>\n      <td>5.55</td>\n      <td>https://i.ebayimg.com/images/g/460AAOSw7uRl4U8...</td>\n      <td>gostyle168</td>\n      <td>96.4% positive</td>\n      <td>New</td>\n    </tr>\n  </tbody>\n</table>\n</div>"
     },
     "execution_count": 21,
     "metadata": {},
     "output_type": "execute_result"
    }
   ],
   "source": [
    "def remove_outliers_iqr(df, column):\n",
    "    # Calculate the first quartile (Q1)\n",
    "    Q1 = df[column].quantile(0.25)\n",
    "    \n",
    "    # Calculate the third quartile (Q3)\n",
    "    Q3 = df[column].quantile(0.75)\n",
    "    \n",
    "    # Calculate the interquartile range (IQR)\n",
    "    IQR = Q3 - Q1\n",
    "    \n",
    "    # Define the lower and upper bounds for outliers\n",
    "    lower_bound = Q1 - 1.5 * IQR\n",
    "    upper_bound = Q3 + 1.5 * IQR\n",
    "    \n",
    "    # Filter the DataFrame to remove outliers\n",
    "    df_filtered = df[(df[column] >= lower_bound) & (df[column] <= upper_bound)]\n",
    "    \n",
    "    return df_filtered\n",
    "\n",
    "# Remove outliers from the 'Price' column using the remove_outliers_iqr function\n",
    "df_filtered = remove_outliers_iqr(df1, 'Price')\n",
    "\n",
    "# Display the DataFrame after removing outliers\n",
    "df_filtered"
   ],
   "metadata": {
    "collapsed": false,
    "ExecuteTime": {
     "end_time": "2024-03-06T22:41:26.478321200Z",
     "start_time": "2024-03-06T22:41:26.413270500Z"
    }
   },
   "id": "5d3a37529dca93bc"
  },
  {
   "cell_type": "code",
   "execution_count": null,
   "outputs": [],
   "source": [
    "df1['Product', 'Price', '']"
   ],
   "metadata": {
    "collapsed": false
   },
   "id": "476a3ad364ccefb2"
  }
 ],
 "metadata": {
  "kernelspec": {
   "display_name": "Python 3",
   "language": "python",
   "name": "python3"
  },
  "language_info": {
   "codemirror_mode": {
    "name": "ipython",
    "version": 2
   },
   "file_extension": ".py",
   "mimetype": "text/x-python",
   "name": "python",
   "nbconvert_exporter": "python",
   "pygments_lexer": "ipython2",
   "version": "2.7.6"
  }
 },
 "nbformat": 4,
 "nbformat_minor": 5
}
